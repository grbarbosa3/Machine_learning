{
  "nbformat": 4,
  "nbformat_minor": 0,
  "metadata": {
    "colab": {
      "name": "Untitled26.ipynb",
      "provenance": [],
      "authorship_tag": "ABX9TyNozJIHpqHJfAL6RijwuKhU",
      "include_colab_link": true
    },
    "kernelspec": {
      "name": "python3",
      "display_name": "Python 3"
    }
  },
  "cells": [
    {
      "cell_type": "markdown",
      "metadata": {
        "id": "view-in-github",
        "colab_type": "text"
      },
      "source": [
        "<a href=\"https://colab.research.google.com/github/grbarbosa3/Machine_learning/blob/master/Classifica%C3%A7ao%20e%20confusion%20matrix.ipynb\" target=\"_parent\"><img src=\"https://colab.research.google.com/assets/colab-badge.svg\" alt=\"Open In Colab\"/></a>"
      ]
    },
    {
      "cell_type": "markdown",
      "metadata": {
        "id": "__-7euGhZE95",
        "colab_type": "text"
      },
      "source": [
        "# Matriz de Confusão\n",
        "\n",
        "Para cada classe, uma matriz de confusão, informa quais os valores reais(actual) e os valores previstos pelo seu modelo (predicted)."
      ]
    },
    {
      "cell_type": "markdown",
      "metadata": {
        "id": "W0s24tdvZiiF",
        "colab_type": "text"
      },
      "source": [
        "### Problema binário de classificação"
      ]
    },
    {
      "cell_type": "code",
      "metadata": {
        "id": "59vLQi65YszM",
        "colab_type": "code",
        "colab": {
          "base_uri": "https://localhost:8080/",
          "height": 279
        },
        "outputId": "3c0f3f0c-0569-4fa6-e380-a33a52a7fb2f"
      },
      "source": [
        "from sklearn.metrics import confusion_matrix\n",
        "from sklearn.metrics import classification_report\n",
        "import matplotlib.pyplot as plt\n",
        "import seaborn as sns\n",
        "\n",
        "y_true = [0,1,0,1,0,0,1,1,1,0,1,0,1,1,0]\n",
        "y_pred = [0,1,0,0,0,1,1,1,0,0,1,0,1,0,0]\n",
        "\n",
        "mat = confusion_matrix(y_true, y_pred)\n",
        "sns.heatmap(mat, square=True, annot=True, cbar=False)\n",
        "plt.xlabel(\"Previsão do modelo\")\n",
        "plt.ylabel(\"Valor verdadeiro\");\n"
      ],
      "execution_count": 3,
      "outputs": [
        {
          "output_type": "display_data",
          "data": {
            "image/png": "[encoded data removed]",
            "text/plain": [
              "<Figure size 432x288 with 1 Axes>"
            ]
          },
          "metadata": {
            "tags": [],
            "needs_background": "light"
          }
        }
      ]
    },
    {
      "cell_type": "markdown",
      "metadata": {
        "id": "fCoLDtA3bpY2",
        "colab_type": "text"
      },
      "source": [
        "### Problema de classificação com multíplas classes"
      ]
    },
    {
      "cell_type": "code",
      "metadata": {
        "id": "GDGR2gwwabzQ",
        "colab_type": "code",
        "colab": {
          "base_uri": "https://localhost:8080/",
          "height": 279
        },
        "outputId": "921a97e2-d1f6-4eea-9f36-27246b92a0bf"
      },
      "source": [
        "x_true = ['cat','ant','cat','cat','ant','bird']\n",
        "x_pred = ['ant','ant','cat','cat','ant','cat']\n",
        "\n",
        "met = confusion_matrix(x_true, x_pred)\n",
        "sns.heatmap(met, square=True, annot=True, cbar=False)\n",
        "plt.xlabel(\"Previsão do modelo\")\n",
        "plt.ylabel(\"Valor Verdadeiro\");\n"
      ],
      "execution_count": 8,
      "outputs": [
        {
          "output_type": "display_data",
          "data": {
            "image/png": "[encoded data removed]",
            "text/plain": [
              "<Figure size 432x288 with 1 Axes>"
            ]
          },
          "metadata": {
            "tags": [],
            "needs_background": "light"
          }
        }
      ]
    },
    {
      "cell_type": "code",
      "metadata": {
        "id": "jYZRVYO0cQIO",
        "colab_type": "code",
        "colab": {
          "base_uri": "https://localhost:8080/",
          "height": 241
        },
        "outputId": "db6a0f13-576a-40bb-b6ea-da32b89280a7"
      },
      "source": [
        "# Exemplo do classification report\n",
        "print(classification_report(y_true, y_pred))"
      ],
      "execution_count": 11,
      "outputs": [
        {
          "output_type": "stream",
          "text": [
            "              precision    recall  f1-score   support\n",
            "\n",
            "         ant       0.67      1.00      0.80         2\n",
            "        bird       0.00      0.00      0.00         1\n",
            "         cat       0.67      0.67      0.67         3\n",
            "\n",
            "    accuracy                           0.67         6\n",
            "   macro avg       0.44      0.56      0.49         6\n",
            "weighted avg       0.56      0.67      0.60         6\n",
            "\n"
          ],
          "name": "stdout"
        },
        {
          "output_type": "stream",
          "text": [
            "/usr/local/lib/python3.6/dist-packages/sklearn/metrics/_classification.py:1272: UndefinedMetricWarning: Precision and F-score are ill-defined and being set to 0.0 in labels with no predicted samples. Use `zero_division` parameter to control this behavior.\n",
            "  _warn_prf(average, modifier, msg_start, len(result))\n"
          ],
          "name": "stderr"
        }
      ]
    },
    {
      "cell_type": "code",
      "metadata": {
        "id": "THP9RE4Kc6bP",
        "colab_type": "code",
        "colab": {}
      },
      "source": [
        ""
      ],
      "execution_count": null,
      "outputs": []
    }
  ]
}