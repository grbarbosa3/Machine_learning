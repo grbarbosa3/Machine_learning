{
  "nbformat": 4,
  "nbformat_minor": 0,
  "metadata": {
    "colab": {
      "name": "Linear_regression.ipynb",
      "provenance": [],
      "authorship_tag": "ABX9TyPaFPNCZ4BUdKvPKZJXCslG",
      "include_colab_link": true
    },
    "kernelspec": {
      "name": "python3",
      "display_name": "Python 3"
    }
  },
  "cells": [
    {
      "cell_type": "markdown",
      "metadata": {
        "id": "view-in-github",
        "colab_type": "text"
      },
      "source": [
        "<a href=\"https://colab.research.google.com/github/grbarbosa3/Machine_learning/blob/master/Linear_regression.ipynb\" target=\"_parent\"><img src=\"https://colab.research.google.com/assets/colab-badge.svg\" alt=\"Open In Colab\"/></a>"
      ]
    },
    {
      "cell_type": "code",
      "metadata": {
        "id": "AGE0Z16q7Fde",
        "colab_type": "code",
        "colab": {}
      },
      "source": [
        "import pandas as pd\n",
        "import matplotlib.pyplot as plt\n",
        "\n",
        "df = pd.read_csv(\"http://dl.dropboxusercontent.com/s/g8cgvjiorjbz54p/precificacao_housing.csv?dl=0\")"
      ],
      "execution_count": 1,
      "outputs": []
    },
    {
      "cell_type": "code",
      "metadata": {
        "id": "1mqyLN-d9fvh",
        "colab_type": "code",
        "colab": {
          "base_uri": "https://localhost:8080/",
          "height": 204
        },
        "outputId": "a9124c56-12b1-439d-e2dd-a9db53649573"
      },
      "source": [
        "df.head()"
      ],
      "execution_count": 4,
      "outputs": [
        {
          "output_type": "execute_result",
          "data": {
            "text/html": [
              "<div>\n",
              "<style scoped>\n",
              "    .dataframe tbody tr th:only-of-type {\n",
              "        vertical-align: middle;\n",
              "    }\n",
              "\n",
              "    .dataframe tbody tr th {\n",
              "        vertical-align: top;\n",
              "    }\n",
              "\n",
              "    .dataframe thead th {\n",
              "        text-align: right;\n",
              "    }\n",
              "</style>\n",
              "<table border=\"1\" class=\"dataframe\">\n",
              "  <thead>\n",
              "    <tr style=\"text-align: right;\">\n",
              "      <th></th>\n",
              "      <th>GrLivArea</th>\n",
              "      <th>SalePrice</th>\n",
              "    </tr>\n",
              "  </thead>\n",
              "  <tbody>\n",
              "    <tr>\n",
              "      <th>0</th>\n",
              "      <td>1710</td>\n",
              "      <td>208500</td>\n",
              "    </tr>\n",
              "    <tr>\n",
              "      <th>1</th>\n",
              "      <td>1262</td>\n",
              "      <td>181500</td>\n",
              "    </tr>\n",
              "    <tr>\n",
              "      <th>2</th>\n",
              "      <td>1786</td>\n",
              "      <td>223500</td>\n",
              "    </tr>\n",
              "    <tr>\n",
              "      <th>3</th>\n",
              "      <td>1717</td>\n",
              "      <td>140000</td>\n",
              "    </tr>\n",
              "    <tr>\n",
              "      <th>4</th>\n",
              "      <td>2198</td>\n",
              "      <td>250000</td>\n",
              "    </tr>\n",
              "  </tbody>\n",
              "</table>\n",
              "</div>"
            ],
            "text/plain": [
              "   GrLivArea  SalePrice\n",
              "0       1710     208500\n",
              "1       1262     181500\n",
              "2       1786     223500\n",
              "3       1717     140000\n",
              "4       2198     250000"
            ]
          },
          "metadata": {
            "tags": []
          },
          "execution_count": 4
        }
      ]
    },
    {
      "cell_type": "code",
      "metadata": {
        "id": "3WmduFSJ-n9K",
        "colab_type": "code",
        "colab": {}
      },
      "source": [
        "# importar bibliotecas para treino e teste\n",
        "\n",
        "from sklearn.model_selection import train_test_split"
      ],
      "execution_count": 7,
      "outputs": []
    },
    {
      "cell_type": "code",
      "metadata": {
        "id": "vd1FX7h19n3M",
        "colab_type": "code",
        "colab": {
          "base_uri": "https://localhost:8080/",
          "height": 34
        },
        "outputId": "7c45ecd0-fafc-4406-bcb6-b43346511fd3"
      },
      "source": [
        "# Escolher e importar um modelo.\n",
        "from sklearn.linear_model import LinearRegression\n",
        "\n",
        "# Esolher os hiperparametros.\n",
        "model = LinearRegression()\n",
        "\n",
        "# Separar os dados entre feature matrix e target vector - mas atenção com \n",
        "\n",
        "X = df['GrLivArea'].values.reshape(-1,1)\n",
        "y = df['SalePrice']\n",
        "\n",
        "# Dividir o dataset em treino e teste.\n",
        "\n",
        "X_train, X_test, y_train, y_test = train_test_split(X, y)\n",
        "\n",
        "# Fit do Modelo (TREINAR).\n",
        "\n",
        "model.fit(X_train, y_train)\n"
      ],
      "execution_count": 11,
      "outputs": [
        {
          "output_type": "execute_result",
          "data": {
            "text/plain": [
              "LinearRegression(copy_X=True, fit_intercept=True, n_jobs=None, normalize=False)"
            ]
          },
          "metadata": {
            "tags": []
          },
          "execution_count": 11
        }
      ]
    },
    {
      "cell_type": "code",
      "metadata": {
        "id": "HjUhR1yV9_2D",
        "colab_type": "code",
        "colab": {}
      },
      "source": [
        "# Fazer previsoes em cima de novos dados.\n",
        "\n",
        "y_prev = model.predict(X_test)"
      ],
      "execution_count": 12,
      "outputs": []
    },
    {
      "cell_type": "code",
      "metadata": {
        "id": "ztYHqTUhAPiP",
        "colab_type": "code",
        "colab": {
          "base_uri": "https://localhost:8080/",
          "height": 51
        },
        "outputId": "c4dfe3d5-1e86-4909-e5fb-7fc65b6f17b8"
      },
      "source": [
        "#consultar numero dos coeficientes e intercept\n",
        "\n",
        "print(\"Coeficiente:\\t\", model.coef_)\n",
        "print(\"Intercept:\\t\", model.intercept_)"
      ],
      "execution_count": 13,
      "outputs": [
        {
          "output_type": "stream",
          "text": [
            "Coeficiente:\t [82.28022317]\n",
            "Intercept:\t 46500.62672665504\n"
          ],
          "name": "stdout"
        }
      ]
    },
    {
      "cell_type": "code",
      "metadata": {
        "id": "8xMBZn-oA2VD",
        "colab_type": "code",
        "colab": {
          "base_uri": "https://localhost:8080/",
          "height": 282
        },
        "outputId": "d7cd62fc-f073-4ce6-ef90-d638df504f57"
      },
      "source": [
        "# plotar reta e graficos\n",
        "\n",
        "fig,ax = plt.subplots()\n",
        "ax.scatter(X, y, s=1, color='blue')\n",
        "ax.plot (X, (model.coef_ * X + model.intercept_), '--r', linewidth=1)\n",
        "\n",
        "fig.get_tight_layout()\n",
        "\n"
      ],
      "execution_count": 15,
      "outputs": [
        {
          "output_type": "execute_result",
          "data": {
            "text/plain": [
              "False"
            ]
          },
          "metadata": {
            "tags": []
          },
          "execution_count": 15
        },
        {
          "output_type": "display_data",
          "data": {
            "image/png": "[encoded data removed]",
            "text/plain": [
              "<Figure size 432x288 with 1 Axes>"
            ]
          },
          "metadata": {
            "tags": [],
            "needs_background": "light"
          }
        }
      ]
    },
    {
      "cell_type": "code",
      "metadata": {
        "id": "Jn4qlwDkBcN_",
        "colab_type": "code",
        "colab": {}
      },
      "source": [
        "# Com o modelo ja treinado, ele ja esta pronto para fazer previsoes em cima de dados novos.\n",
        "\n",
        "y_prev = model.predict(X_test)"
      ],
      "execution_count": 16,
      "outputs": []
    },
    {
      "cell_type": "code",
      "metadata": {
        "id": "TMsxNN03CfX2",
        "colab_type": "code",
        "colab": {
          "base_uri": "https://localhost:8080/",
          "height": 1000
        },
        "outputId": "8f006a93-4dba-4e49-a473-395f28b3690b"
      },
      "source": [
        "y_prev"
      ],
      "execution_count": 17,
      "outputs": [
        {
          "output_type": "execute_result",
          "data": {
            "text/plain": [
              "array([150831.9497044 , 198389.91869584, 136350.63042674, 250720.14063105,\n",
              "       170661.48348803, 136350.63042674, 117590.7395443 , 166465.19210643,\n",
              "       168439.91746248, 153958.59818481, 189585.9348168 , 184731.40164986,\n",
              "       148198.98256301, 165066.42831257, 126147.88275383, 205136.89699566,\n",
              "       156509.28510304, 156756.12577254, 189174.53370096, 106482.90941654,\n",
              "       140135.52069249, 206700.22123587, 216738.40846243, 134787.30618653,\n",
              "       166300.6316601 , 129439.09168058, 165148.70853574, 133141.70172316,\n",
              "       208674.94659191, 126641.56409284, 158401.73023591, 156262.44443353,\n",
              "       157743.48845056, 253353.10777245, 150585.1090349 , 153135.79595312,\n",
              "       138654.47667546, 138901.31734496, 164655.02719672, 117755.29999064,\n",
              "       169756.40103318, 157496.64778106, 125901.04208433, 188022.6105766 ,\n",
              "       136926.59198892, 222744.86475374, 129027.69056473, 139806.39979982,\n",
              "       122527.55293442, 117590.7395443 , 127793.4872172 , 159718.21380661,\n",
              "       143426.72961923, 195592.39110811, 139148.15801447, 209168.62793092,\n",
              "       135116.42707921, 196991.15490197, 228339.9199292 , 202997.61119328,\n",
              "        89286.34277431, 178148.98379637, 170250.08237219, 147869.86167034,\n",
              "       204725.49587982, 187693.48968392, 157990.32912007, 239365.46983379,\n",
              "       187858.05013026, 178148.98379637, 133717.66328534, 192465.7426277 ,\n",
              "       180535.11026826, 219042.25471115, 222251.18341473, 146553.37809964,\n",
              "       142274.80649487, 184320.00053401, 112653.92615419, 146717.93854598,\n",
              "       133388.54239267, 118002.14066014, 179465.46736707, 188680.85236195,\n",
              "       116027.4153041 , 157578.92800423, 137831.67444377, 180288.26959875,\n",
              "       121540.19025639, 125489.64096848, 154205.43885432, 132072.05882197,\n",
              "       188680.85236195, 168110.7965698 , 147211.61988499, 168193.07679297,\n",
              "       173129.89018309, 183579.4785255 , 144249.53185092, 129274.53123424,\n",
              "       174528.65397695, 121128.78914055, 174199.53308428, 180617.39049143,\n",
              "       117590.7395443 , 120552.82757837, 141452.00426319, 229903.2441694 ,\n",
              "       262403.93232099, 151737.03215926, 127135.24543186, 207852.14436023,\n",
              "       166300.6316601 , 160294.17536879,  98337.16732286, 160211.89514562,\n",
              "       146388.8176533 , 136021.50953406, 145236.89452894, 142192.5262717 ,\n",
              "       182756.67629381, 174775.49464646, 141287.44381685, 187199.80834491,\n",
              "       202339.36940793, 181769.31361579, 170085.52192585, 182756.67629381,\n",
              "       183908.59941817, 200200.08360555, 165148.70853574, 120059.14623936,\n",
              "       139806.39979982, 153958.59818481, 163503.10407236, 167123.43389178,\n",
              "       218466.29314897, 175186.8957623 , 181028.79160727, 192630.30307404,\n",
              "       132072.05882197, 163503.10407236, 145483.73519845, 164984.1480894 ,\n",
              "       143591.29006557, 138489.91622912, 219042.25471115, 181440.19272311,\n",
              "       169920.96147951, 122445.27271125, 182016.15428529, 184895.96209619,\n",
              "       134705.02596336, 179794.58825974, 132730.30060732, 121540.19025639,\n",
              "       149104.06501786, 200117.80338238, 124173.15739779, 172800.76929041,\n",
              "       169756.40103318, 109691.83812012, 200858.3253909 , 167863.9559003 ,\n",
              "       137255.71288159, 161034.69737731, 127711.20699404, 127793.4872172 ,\n",
              "       159718.21380661, 184731.40164986, 160294.17536879, 164243.62608088,\n",
              "       207605.30369072, 204478.65521031, 121540.19025639, 203902.69364813,\n",
              "       160129.61492245, 183168.07740965, 242327.55786786, 133059.42149999,\n",
              "       157085.24666522, 129109.9707879 , 199624.12204337, 212706.67752717,\n",
              "       161034.69737731, 171977.96705873, 161199.25782364, 145566.01542162,\n",
              "       148198.98256301, 147211.61988499, 168604.47790882, 208098.98502973,\n",
              "       120059.14623936, 168028.51634664, 171566.56594288, 119071.78356134,\n",
              "       165066.42831257, 203162.17163962, 139641.83935348, 176667.93977934,\n",
              "       183168.07740965, 235004.61800585, 156591.5653262 , 171566.56594288,\n",
              "       125818.76186116, 165971.51076742, 147869.86167034, 137173.43265842,\n",
              "       150255.98814222, 147623.02100083, 163832.22496504, 194193.62731424,\n",
              "       178478.10468904, 254751.87156631, 183414.91807916, 162680.30184068,\n",
              "       179054.06625122, 171319.72527338, 167534.83500762, 180288.26959875,\n",
              "       224966.43077929, 122527.55293442, 163009.42273335, 198883.60003485,\n",
              "       113641.28883221, 136350.63042674, 284948.71346918, 134705.02596336,\n",
              "       132072.05882197, 170661.48348803, 132730.30060732, 149515.46613371,\n",
              "       173129.89018309, 168604.47790882, 132154.33904514, 158648.57090542,\n",
              "       111008.32169082, 240105.99184231, 136350.63042674, 163832.22496504,\n",
              "       168193.07679297, 215504.2051149 , 111502.00302983, 156427.00487987,\n",
              "       161034.69737731, 117590.7395443 , 220276.45805868, 123185.79471976,\n",
              "       198554.47914218, 117590.7395443 , 253929.06933463, 178807.22558172,\n",
              "       149597.74635688, 146964.77921548, 166300.6316601 , 132072.05882197,\n",
              "       205219.17721883, 199788.68248971, 174610.93420012, 140958.32292418,\n",
              "       146224.25720696, 197896.23735683, 143838.13073508, 110185.51945913,\n",
              "       130920.13569761, 219947.33716601, 103356.26093614, 179876.86848291,\n",
              "       146717.93854598, 131084.69614395, 185471.92365837, 160787.8567078 ,\n",
              "       120881.94847104, 168357.63723931, 159059.97202126, 140629.2020315 ,\n",
              "       140382.361362  , 142357.08671804, 116274.2559736 , 221428.38118304,\n",
              "       132072.05882197, 140629.2020315 , 204067.25409447, 153135.79595312,\n",
              "       291531.13132266, 185225.08298887, 129192.25101107, 185471.92365837,\n",
              "       169427.2801405 , 169344.99991733, 172883.04951358, 153958.59818481,\n",
              "       178478.10468904, 194769.58887642, 217808.05136362, 151572.47171292,\n",
              "       163009.42273335, 189092.25347779, 177161.62111835, 132072.05882197,\n",
              "       149515.46613371, 170003.24170268, 228093.07925969, 204643.21565665,\n",
              "       165971.51076742, 137996.23489011, 170332.36259536, 184731.40164986,\n",
              "       133059.42149999, 169015.87902466, 176338.81888666, 114957.77240291,\n",
              "       188022.6105766 , 149515.46613371, 152724.39483728, 216162.44690025,\n",
              "       160787.8567078 , 135116.42707921, 193946.78664474, 215833.32600758,\n",
              "       183085.79718648, 126394.72342334, 174857.77486963, 188351.73146927,\n",
              "       194605.02843009, 134787.30618653, 150914.22992757, 158566.29068225,\n",
              "       218713.13381848, 120881.94847104, 168439.91746248, 233605.85421199,\n",
              "       175762.85732448, 183085.79718648, 189503.65459363])"
            ]
          },
          "metadata": {
            "tags": []
          },
          "execution_count": 17
        }
      ]
    },
    {
      "cell_type": "code",
      "metadata": {
        "id": "vMdguymUCgDD",
        "colab_type": "code",
        "colab": {}
      },
      "source": [
        "# IMPORTAR OS PACOTES DE ANALISE\n",
        "from sklearn.metrics import r2_score, mean_absolute_error, mean_squared_error"
      ],
      "execution_count": 18,
      "outputs": []
    },
    {
      "cell_type": "code",
      "metadata": {
        "id": "ITAwkj1uC4di",
        "colab_type": "code",
        "colab": {
          "base_uri": "https://localhost:8080/",
          "height": 68
        },
        "outputId": "6da198e5-4b7a-47a9-c71b-73055a16b92e"
      },
      "source": [
        "# avaliar o desempenho do modelo.\n",
        "print(\"R²:\\t\", r2_score(y_test, y_prev))\n",
        "print(\"MAE:\\t\", mean_absolute_error(y_test, y_prev))\n",
        "print(\"MSE:\\t\", mean_squared_error(y_test, y_prev))\n",
        "\n",
        "# Para o R2 a métrica de melhor desempenho é 1. Para o MAE, ele indica a média de erro do valor de preços.\n",
        "# O MSE penaliza outliers."
      ],
      "execution_count": 19,
      "outputs": [
        {
          "output_type": "stream",
          "text": [
            "R²:\t 0.4286508073878128\n",
            "MAE:\t 28334.145232870942\n",
            "MSE:\t 1412364252.721714\n"
          ],
          "name": "stdout"
        }
      ]
    },
    {
      "cell_type": "code",
      "metadata": {
        "id": "frU3w1KbFESX",
        "colab_type": "code",
        "colab": {}
      },
      "source": [
        ""
      ],
      "execution_count": null,
      "outputs": []
    }
  ]
}