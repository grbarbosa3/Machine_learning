{
  "nbformat": 4,
  "nbformat_minor": 5,
  "metadata": {
    "kernelspec": {
      "display_name": "Python 3",
      "language": "python",
      "name": "python3"
    },
    "language_info": {
      "codemirror_mode": {
        "name": "ipython",
        "version": 3
      },
      "file_extension": ".py",
      "mimetype": "text/x-python",
      "name": "python",
      "nbconvert_exporter": "python",
      "pygments_lexer": "ipython3",
      "version": "3.8.8"
    },
    "colab": {
      "name": "Alura_cluster.ipynb",
      "provenance": [],
      "include_colab_link": true
    }
  },
  "cells": [
    {
      "cell_type": "markdown",
      "metadata": {
        "id": "view-in-github",
        "colab_type": "text"
      },
      "source": [
        "<a href=\"https://colab.research.google.com/github/grbarbosa3/Machine_learning/blob/master/Alura_cluster.ipynb\" target=\"_parent\"><img src=\"https://colab.research.google.com/assets/colab-badge.svg\" alt=\"Open In Colab\"/></a>"
      ]
    },
    {
      "cell_type": "code",
      "metadata": {
        "id": "a4212c11"
      },
      "source": [
        "#!pip install jupyterthemes"
      ],
      "id": "a4212c11",
      "execution_count": null,
      "outputs": []
    },
    {
      "cell_type": "code",
      "metadata": {
        "id": "54c8d57b"
      },
      "source": [
        "#!jt -r"
      ],
      "id": "54c8d57b",
      "execution_count": null,
      "outputs": []
    },
    {
      "cell_type": "code",
      "metadata": {
        "id": "ed69350a"
      },
      "source": [
        "import pandas as pd\n",
        "import numpy as np \n",
        "import seaborn as sns\n",
        "import matplotlib.pyplot as plt\n",
        "import datetime"
      ],
      "id": "ed69350a",
      "execution_count": null,
      "outputs": []
    },
    {
      "cell_type": "code",
      "metadata": {
        "id": "b96fd2ca"
      },
      "source": [
        "df = pd.read_csv(r\"C:\\Users\\grbar\\Downloads\\BancoDeDados.csv\")"
      ],
      "id": "b96fd2ca",
      "execution_count": null,
      "outputs": []
    },
    {
      "cell_type": "code",
      "metadata": {
        "id": "858520ef",
        "outputId": "e6bfae13-dc30-4fb7-8107-947d21b90615"
      },
      "source": [
        "df.head()"
      ],
      "id": "858520ef",
      "execution_count": null,
      "outputs": [
        {
          "data": {
            "text/html": [
              "<div>\n",
              "<style scoped>\n",
              "    .dataframe tbody tr th:only-of-type {\n",
              "        vertical-align: middle;\n",
              "    }\n",
              "\n",
              "    .dataframe tbody tr th {\n",
              "        vertical-align: top;\n",
              "    }\n",
              "\n",
              "    .dataframe thead th {\n",
              "        text-align: right;\n",
              "    }\n",
              "</style>\n",
              "<table border=\"1\" class=\"dataframe\">\n",
              "  <thead>\n",
              "    <tr style=\"text-align: right;\">\n",
              "      <th></th>\n",
              "      <th>amostra</th>\n",
              "      <th>id_cliente</th>\n",
              "      <th>id_unico_cliente</th>\n",
              "      <th>item_id</th>\n",
              "      <th>cep_cliente</th>\n",
              "      <th>cidade_cliente</th>\n",
              "      <th>estado_cliente</th>\n",
              "      <th>id_pedido</th>\n",
              "      <th>status_pedido</th>\n",
              "      <th>horario_pedido</th>\n",
              "      <th>...</th>\n",
              "      <th>pagamento_sequencial</th>\n",
              "      <th>pagamento_tipo</th>\n",
              "      <th>pagamento_prestacoes</th>\n",
              "      <th>pagamento_valor</th>\n",
              "      <th>review</th>\n",
              "      <th>categoria</th>\n",
              "      <th>categoria_ingles</th>\n",
              "      <th>cep_vendedor</th>\n",
              "      <th>cidade_vendedor</th>\n",
              "      <th>estado_vendedor</th>\n",
              "    </tr>\n",
              "  </thead>\n",
              "  <tbody>\n",
              "    <tr>\n",
              "      <th>0</th>\n",
              "      <td>0</td>\n",
              "      <td>06b8999e2fba1a1fbc88172c00ba8bc7</td>\n",
              "      <td>861eff4711a542e4b93843c6dd7febb0</td>\n",
              "      <td>1</td>\n",
              "      <td>14409</td>\n",
              "      <td>franca</td>\n",
              "      <td>SP</td>\n",
              "      <td>00e7ee1b050b8499577073aeb2a297a1</td>\n",
              "      <td>delivered</td>\n",
              "      <td>2017-05-16 15:05:35</td>\n",
              "      <td>...</td>\n",
              "      <td>1</td>\n",
              "      <td>credit_card</td>\n",
              "      <td>2</td>\n",
              "      <td>146.87</td>\n",
              "      <td>4</td>\n",
              "      <td>moveis_escritorio</td>\n",
              "      <td>office_furniture</td>\n",
              "      <td>8577</td>\n",
              "      <td>itaquaquecetuba</td>\n",
              "      <td>SP</td>\n",
              "    </tr>\n",
              "    <tr>\n",
              "      <th>1</th>\n",
              "      <td>1</td>\n",
              "      <td>8912fc0c3bbf1e2fbf35819e21706718</td>\n",
              "      <td>9eae34bbd3a474ec5d07949ca7de67c0</td>\n",
              "      <td>1</td>\n",
              "      <td>68030</td>\n",
              "      <td>santarem</td>\n",
              "      <td>PA</td>\n",
              "      <td>c1d2b34febe9cd269e378117d6681172</td>\n",
              "      <td>delivered</td>\n",
              "      <td>2017-11-09 00:50:13</td>\n",
              "      <td>...</td>\n",
              "      <td>1</td>\n",
              "      <td>credit_card</td>\n",
              "      <td>1</td>\n",
              "      <td>275.79</td>\n",
              "      <td>1</td>\n",
              "      <td>moveis_escritorio</td>\n",
              "      <td>office_furniture</td>\n",
              "      <td>8577</td>\n",
              "      <td>itaquaquecetuba</td>\n",
              "      <td>SP</td>\n",
              "    </tr>\n",
              "    <tr>\n",
              "      <th>2</th>\n",
              "      <td>2</td>\n",
              "      <td>8912fc0c3bbf1e2fbf35819e21706718</td>\n",
              "      <td>9eae34bbd3a474ec5d07949ca7de67c0</td>\n",
              "      <td>2</td>\n",
              "      <td>68030</td>\n",
              "      <td>santarem</td>\n",
              "      <td>PA</td>\n",
              "      <td>c1d2b34febe9cd269e378117d6681172</td>\n",
              "      <td>delivered</td>\n",
              "      <td>2017-11-09 00:50:13</td>\n",
              "      <td>...</td>\n",
              "      <td>1</td>\n",
              "      <td>credit_card</td>\n",
              "      <td>1</td>\n",
              "      <td>275.79</td>\n",
              "      <td>1</td>\n",
              "      <td>moveis_escritorio</td>\n",
              "      <td>office_furniture</td>\n",
              "      <td>8577</td>\n",
              "      <td>itaquaquecetuba</td>\n",
              "      <td>SP</td>\n",
              "    </tr>\n",
              "    <tr>\n",
              "      <th>3</th>\n",
              "      <td>3</td>\n",
              "      <td>f0ac8e5a239118859b1734e1087cbb1f</td>\n",
              "      <td>3c799d181c34d51f6d44bbbc563024db</td>\n",
              "      <td>1</td>\n",
              "      <td>92480</td>\n",
              "      <td>nova santa rita</td>\n",
              "      <td>RS</td>\n",
              "      <td>b1a5d5365d330d10485e0203d54ab9e8</td>\n",
              "      <td>delivered</td>\n",
              "      <td>2017-05-07 20:11:26</td>\n",
              "      <td>...</td>\n",
              "      <td>1</td>\n",
              "      <td>credit_card</td>\n",
              "      <td>7</td>\n",
              "      <td>140.61</td>\n",
              "      <td>3</td>\n",
              "      <td>moveis_escritorio</td>\n",
              "      <td>office_furniture</td>\n",
              "      <td>8577</td>\n",
              "      <td>itaquaquecetuba</td>\n",
              "      <td>SP</td>\n",
              "    </tr>\n",
              "    <tr>\n",
              "      <th>4</th>\n",
              "      <td>4</td>\n",
              "      <td>6bc8d08963a135220ed6c6d098831f84</td>\n",
              "      <td>23397e992b09769faf5e66f9e171a241</td>\n",
              "      <td>1</td>\n",
              "      <td>25931</td>\n",
              "      <td>mage</td>\n",
              "      <td>RJ</td>\n",
              "      <td>2e604b3614664aa66867856dba7e61b7</td>\n",
              "      <td>delivered</td>\n",
              "      <td>2018-02-03 19:45:40</td>\n",
              "      <td>...</td>\n",
              "      <td>1</td>\n",
              "      <td>credit_card</td>\n",
              "      <td>10</td>\n",
              "      <td>137.58</td>\n",
              "      <td>4</td>\n",
              "      <td>moveis_escritorio</td>\n",
              "      <td>office_furniture</td>\n",
              "      <td>8577</td>\n",
              "      <td>itaquaquecetuba</td>\n",
              "      <td>SP</td>\n",
              "    </tr>\n",
              "  </tbody>\n",
              "</table>\n",
              "<p>5 rows × 27 columns</p>\n",
              "</div>"
            ],
            "text/plain": [
              "   amostra                        id_cliente  \\\n",
              "0        0  06b8999e2fba1a1fbc88172c00ba8bc7   \n",
              "1        1  8912fc0c3bbf1e2fbf35819e21706718   \n",
              "2        2  8912fc0c3bbf1e2fbf35819e21706718   \n",
              "3        3  f0ac8e5a239118859b1734e1087cbb1f   \n",
              "4        4  6bc8d08963a135220ed6c6d098831f84   \n",
              "\n",
              "                   id_unico_cliente  item_id  cep_cliente   cidade_cliente  \\\n",
              "0  861eff4711a542e4b93843c6dd7febb0        1        14409           franca   \n",
              "1  9eae34bbd3a474ec5d07949ca7de67c0        1        68030         santarem   \n",
              "2  9eae34bbd3a474ec5d07949ca7de67c0        2        68030         santarem   \n",
              "3  3c799d181c34d51f6d44bbbc563024db        1        92480  nova santa rita   \n",
              "4  23397e992b09769faf5e66f9e171a241        1        25931             mage   \n",
              "\n",
              "  estado_cliente                         id_pedido status_pedido  \\\n",
              "0             SP  00e7ee1b050b8499577073aeb2a297a1     delivered   \n",
              "1             PA  c1d2b34febe9cd269e378117d6681172     delivered   \n",
              "2             PA  c1d2b34febe9cd269e378117d6681172     delivered   \n",
              "3             RS  b1a5d5365d330d10485e0203d54ab9e8     delivered   \n",
              "4             RJ  2e604b3614664aa66867856dba7e61b7     delivered   \n",
              "\n",
              "        horario_pedido  ... pagamento_sequencial pagamento_tipo  \\\n",
              "0  2017-05-16 15:05:35  ...                    1    credit_card   \n",
              "1  2017-11-09 00:50:13  ...                    1    credit_card   \n",
              "2  2017-11-09 00:50:13  ...                    1    credit_card   \n",
              "3  2017-05-07 20:11:26  ...                    1    credit_card   \n",
              "4  2018-02-03 19:45:40  ...                    1    credit_card   \n",
              "\n",
              "  pagamento_prestacoes pagamento_valor review          categoria  \\\n",
              "0                    2          146.87      4  moveis_escritorio   \n",
              "1                    1          275.79      1  moveis_escritorio   \n",
              "2                    1          275.79      1  moveis_escritorio   \n",
              "3                    7          140.61      3  moveis_escritorio   \n",
              "4                   10          137.58      4  moveis_escritorio   \n",
              "\n",
              "   categoria_ingles  cep_vendedor  cidade_vendedor  estado_vendedor  \n",
              "0  office_furniture          8577  itaquaquecetuba               SP  \n",
              "1  office_furniture          8577  itaquaquecetuba               SP  \n",
              "2  office_furniture          8577  itaquaquecetuba               SP  \n",
              "3  office_furniture          8577  itaquaquecetuba               SP  \n",
              "4  office_furniture          8577  itaquaquecetuba               SP  \n",
              "\n",
              "[5 rows x 27 columns]"
            ]
          },
          "execution_count": 5,
          "metadata": {},
          "output_type": "execute_result"
        }
      ]
    },
    {
      "cell_type": "code",
      "metadata": {
        "id": "b1441fcd"
      },
      "source": [
        "# g = sns.countplot(x='preco', data=df, orient='h')\n",
        "# g.set_title(\"Distribuição do estado dos clientes\", fontsize=20)\n",
        "# g.set_xlabel(\"Estado\", fontsize=17)\n",
        "# g.set_ylabel(\"Contagem\", fontsize=17)\n",
        "# g.set_xticklabels(g.get_xticklabels(),rotation=45)"
      ],
      "id": "b1441fcd",
      "execution_count": null,
      "outputs": []
    },
    {
      "cell_type": "code",
      "metadata": {
        "id": "2dbfadd1",
        "outputId": "00f6d8d6-63e9-4c4c-846b-928d18bff0d3"
      },
      "source": [
        "df.info()"
      ],
      "id": "2dbfadd1",
      "execution_count": null,
      "outputs": [
        {
          "name": "stdout",
          "output_type": "stream",
          "text": [
            "<class 'pandas.core.frame.DataFrame'>\n",
            "RangeIndex: 116581 entries, 0 to 116580\n",
            "Data columns (total 27 columns):\n",
            " #   Column                Non-Null Count   Dtype  \n",
            "---  ------                --------------   -----  \n",
            " 0   amostra               116581 non-null  int64  \n",
            " 1   id_cliente            116581 non-null  object \n",
            " 2   id_unico_cliente      116581 non-null  object \n",
            " 3   item_id               116581 non-null  int64  \n",
            " 4   cep_cliente           116581 non-null  int64  \n",
            " 5   cidade_cliente        116581 non-null  object \n",
            " 6   estado_cliente        116581 non-null  object \n",
            " 7   id_pedido             116581 non-null  object \n",
            " 8   status_pedido         116581 non-null  object \n",
            " 9   horario_pedido        116581 non-null  object \n",
            " 10  pedido_aprovado       116567 non-null  object \n",
            " 11  pedido_entregador     115368 non-null  object \n",
            " 12  pedido_entregue       114066 non-null  object \n",
            " 13  data_estimada         116581 non-null  object \n",
            " 14  id_vendedor           116581 non-null  object \n",
            " 15  preco                 116581 non-null  float64\n",
            " 16  frete                 116581 non-null  float64\n",
            " 17  pagamento_sequencial  116581 non-null  int64  \n",
            " 18  pagamento_tipo        116581 non-null  object \n",
            " 19  pagamento_prestacoes  116581 non-null  int64  \n",
            " 20  pagamento_valor       116581 non-null  float64\n",
            " 21  review                116581 non-null  int64  \n",
            " 22  categoria             116581 non-null  object \n",
            " 23  categoria_ingles      116581 non-null  object \n",
            " 24  cep_vendedor          116581 non-null  int64  \n",
            " 25  cidade_vendedor       116581 non-null  object \n",
            " 26  estado_vendedor       116581 non-null  object \n",
            "dtypes: float64(3), int64(7), object(17)\n",
            "memory usage: 24.0+ MB\n"
          ]
        }
      ]
    },
    {
      "cell_type": "markdown",
      "metadata": {
        "id": "4ca98aa6"
      },
      "source": [
        "# Analise exploratória"
      ],
      "id": "4ca98aa6"
    },
    {
      "cell_type": "code",
      "metadata": {
        "id": "77fc4fc1",
        "outputId": "380d4000-92a8-4294-e8ed-0dc67e9e2d1c"
      },
      "source": [
        "df['cidade_vendedor'].value_counts()"
      ],
      "id": "77fc4fc1",
      "execution_count": null,
      "outputs": [
        {
          "data": {
            "text/plain": [
              "sao paulo                29056\n",
              "ibitinga                  8331\n",
              "santo andre               3146\n",
              "curitiba                  3125\n",
              "sao jose do rio preto     2687\n",
              "                         ...  \n",
              "irece                        1\n",
              "serra redonda                1\n",
              "campanha                     1\n",
              "mogi das cruzes / sp         1\n",
              "palotina                     1\n",
              "Name: cidade_vendedor, Length: 604, dtype: int64"
            ]
          },
          "execution_count": 8,
          "metadata": {},
          "output_type": "execute_result"
        }
      ]
    },
    {
      "cell_type": "code",
      "metadata": {
        "id": "5f8673a9"
      },
      "source": [
        "def plot_perc(st,dados):\n",
        "    plt.figure(figsize=(20,8))\n",
        "    \n",
        "    g = sns.countplot(x= st, data=dados, orient='h')\n",
        "    g.set_ylabel('Contagem', fontsize=17)\n",
        "    \n",
        "    sizes = []\n",
        "    \n",
        "    for p in g.patches:\n",
        "        height = p.get_height()\n",
        "        sizes.append(height)\n",
        "        g.text(p.get_x() + p.get_width()/1.6,\n",
        "              height+200,\n",
        "              '{:1.2f}%'.format(height / 116581*100),\n",
        "              ha = 'center', va = 'bottom', fontsize=12)\n",
        "        g.set_ylim(0,max(sizes)*1.1)\n",
        "    \n",
        "    "
      ],
      "id": "5f8673a9",
      "execution_count": null,
      "outputs": []
    },
    {
      "cell_type": "code",
      "metadata": {
        "id": "4fac2bf5"
      },
      "source": [
        "df_gastos = df[['estado_cliente', 'preco']]"
      ],
      "id": "4fac2bf5",
      "execution_count": null,
      "outputs": []
    },
    {
      "cell_type": "markdown",
      "metadata": {
        "id": "a97533e1"
      },
      "source": [
        "##### Plot indicando qual estado tem maior valor de PREÇO"
      ],
      "id": "a97533e1"
    },
    {
      "cell_type": "code",
      "metadata": {
        "id": "b4ed6587",
        "outputId": "a6719819-6086-4065-ee88-dafec35c7acd"
      },
      "source": [
        "plt.figure(figsize=(20,8))\n",
        "g2 = sns.barplot(x='estado_cliente', y='preco',\n",
        "                 data=df[df['preco'] != -1])\n",
        "g2.set_title(\"Estado do Consumidor\", fontsize=20)\n",
        "g2.set_xlabel(\"Estado\", fontsize=17)\n",
        "g2.set_ylabel(\"Preço\", fontsize=17)\n",
        "g2.set_xticklabels(g2.get_xticklabels(),rotation=45)"
      ],
      "id": "b4ed6587",
      "execution_count": null,
      "outputs": [
        {
          "data": {
            "text/plain": [
              "[Text(0, 0, 'SP'),\n",
              " Text(1, 0, 'PA'),\n",
              " Text(2, 0, 'RS'),\n",
              " Text(3, 0, 'RJ'),\n",
              " Text(4, 0, 'SC'),\n",
              " Text(5, 0, 'MG'),\n",
              " Text(6, 0, 'MT'),\n",
              " Text(7, 0, 'BA'),\n",
              " Text(8, 0, 'ES'),\n",
              " Text(9, 0, 'PR'),\n",
              " Text(10, 0, 'MS'),\n",
              " Text(11, 0, 'CE'),\n",
              " Text(12, 0, 'RN'),\n",
              " Text(13, 0, 'TO'),\n",
              " Text(14, 0, 'MA'),\n",
              " Text(15, 0, 'GO'),\n",
              " Text(16, 0, 'PI'),\n",
              " Text(17, 0, 'PE'),\n",
              " Text(18, 0, 'DF'),\n",
              " Text(19, 0, 'PB'),\n",
              " Text(20, 0, 'AL'),\n",
              " Text(21, 0, 'SE'),\n",
              " Text(22, 0, 'RO'),\n",
              " Text(23, 0, 'AC'),\n",
              " Text(24, 0, 'RR'),\n",
              " Text(25, 0, 'AM'),\n",
              " Text(26, 0, 'AP')]"
            ]
          },
          "execution_count": 11,
          "metadata": {},
          "output_type": "execute_result"
        },
        {
          "data": {
            "image/png": "[encoded data removed]",
            "text/plain": [
              "<Figure size 1440x576 with 1 Axes>"
            ]
          },
          "metadata": {
            "needs_background": "light"
          },
          "output_type": "display_data"
        }
      ]
    },
    {
      "cell_type": "markdown",
      "metadata": {
        "id": "ae83ba9b"
      },
      "source": [
        "##### Plot indicando qual estado tem maior valor de FRETE"
      ],
      "id": "ae83ba9b"
    },
    {
      "cell_type": "code",
      "metadata": {
        "id": "c3a2c432",
        "outputId": "c64677fd-9947-4fc6-a161-3106207cb4a9"
      },
      "source": [
        "plt.figure(figsize=(20,8))\n",
        "g3 = sns.barplot(x='estado_cliente', y='frete',\n",
        "                 data=df[df['frete'] != -1])\n",
        "g3.set_title(\"Estado do Consumidor\", fontsize=20)\n",
        "g3.set_xlabel(\"Estado\", fontsize=17)\n",
        "g3.set_ylabel(\"Preço\", fontsize=17)\n",
        "g3.set_xticklabels(g2.get_xticklabels(),rotation=45)"
      ],
      "id": "c3a2c432",
      "execution_count": null,
      "outputs": [
        {
          "data": {
            "text/plain": [
              "[Text(0, 0, 'SP'),\n",
              " Text(1, 0, 'PA'),\n",
              " Text(2, 0, 'RS'),\n",
              " Text(3, 0, 'RJ'),\n",
              " Text(4, 0, 'SC'),\n",
              " Text(5, 0, 'MG'),\n",
              " Text(6, 0, 'MT'),\n",
              " Text(7, 0, 'BA'),\n",
              " Text(8, 0, 'ES'),\n",
              " Text(9, 0, 'PR'),\n",
              " Text(10, 0, 'MS'),\n",
              " Text(11, 0, 'CE'),\n",
              " Text(12, 0, 'RN'),\n",
              " Text(13, 0, 'TO'),\n",
              " Text(14, 0, 'MA'),\n",
              " Text(15, 0, 'GO'),\n",
              " Text(16, 0, 'PI'),\n",
              " Text(17, 0, 'PE'),\n",
              " Text(18, 0, 'DF'),\n",
              " Text(19, 0, 'PB'),\n",
              " Text(20, 0, 'AL'),\n",
              " Text(21, 0, 'SE'),\n",
              " Text(22, 0, 'RO'),\n",
              " Text(23, 0, 'AC'),\n",
              " Text(24, 0, 'RR'),\n",
              " Text(25, 0, 'AM'),\n",
              " Text(26, 0, 'AP')]"
            ]
          },
          "execution_count": 12,
          "metadata": {},
          "output_type": "execute_result"
        },
        {
          "data": {
            "image/png": "[encoded data removed]",
            "text/plain": [
              "<Figure size 1440x576 with 1 Axes>"
            ]
          },
          "metadata": {
            "needs_background": "light"
          },
          "output_type": "display_data"
        }
      ]
    },
    {
      "cell_type": "code",
      "metadata": {
        "id": "49cc0df0",
        "outputId": "6b08555e-de2a-41af-e4a4-4ec1e499d99b"
      },
      "source": [
        "plot_perc('estado_cliente',df)"
      ],
      "id": "49cc0df0",
      "execution_count": null,
      "outputs": [
        {
          "data": {
            "image/png": "[encoded data removed]",
            "text/plain": [
              "<Figure size 1440x576 with 1 Axes>"
            ]
          },
          "metadata": {
            "needs_background": "light"
          },
          "output_type": "display_data"
        }
      ]
    },
    {
      "cell_type": "code",
      "metadata": {
        "id": "98862f8f",
        "outputId": "24992be9-94b5-47bd-c6f0-5cfe7e15bf64"
      },
      "source": [
        "plot_perc('estado_vendedor',df)"
      ],
      "id": "98862f8f",
      "execution_count": null,
      "outputs": [
        {
          "data": {
            "image/png": "[encoded data removed]",
            "text/plain": [
              "<Figure size 1440x576 with 1 Axes>"
            ]
          },
          "metadata": {
            "needs_background": "light"
          },
          "output_type": "display_data"
        }
      ]
    },
    {
      "cell_type": "code",
      "metadata": {
        "id": "83e2f76c",
        "outputId": "288de6de-22d8-4321-bb3a-d67e77de068c"
      },
      "source": [
        "plot_perc('pagamento_tipo',df)"
      ],
      "id": "83e2f76c",
      "execution_count": null,
      "outputs": [
        {
          "data": {
            "image/png": "[encoded data removed]",
            "text/plain": [
              "<Figure size 1440x576 with 1 Axes>"
            ]
          },
          "metadata": {
            "needs_background": "light"
          },
          "output_type": "display_data"
        }
      ]
    },
    {
      "cell_type": "markdown",
      "metadata": {
        "id": "591ac926"
      },
      "source": [
        "#### Mapa de calor para distribuição de valores de frete em função da localização do cliente e do vendedor:"
      ],
      "id": "591ac926"
    },
    {
      "cell_type": "code",
      "metadata": {
        "id": "c91f1cc1"
      },
      "source": [
        "sudeste = ['SP', 'RJ', 'ES','MG']\n",
        "nordeste= ['MA', 'PI', 'CE', 'RN', 'PE', 'PB', 'SE', 'AL', 'BA']\n",
        "norte =  ['AM', 'RR', 'AP', 'PA', 'TO', 'RO', 'AC']\n",
        "centro_oeste = ['MT', 'GO', 'MS' ,'DF' ]\n",
        "sul = ['SC', 'RS', 'PR']"
      ],
      "id": "c91f1cc1",
      "execution_count": null,
      "outputs": []
    },
    {
      "cell_type": "code",
      "metadata": {
        "id": "933ac9f4"
      },
      "source": [
        "df.loc[df['estado_cliente'].isin(sudeste), 'Regiao'] = 'Sudeste'\n",
        "df.loc[df['estado_cliente'].isin(nordeste), 'Regiao'] = 'Nordeste'\n",
        "df.loc[df['estado_cliente'].isin(norte), 'Regiao'] = 'Norte'\n",
        "df.loc[df['estado_cliente'].isin(centro_oeste), 'Regiao'] = 'Centro-Oeste'\n",
        "df.loc[df['estado_cliente'].isin(sul), 'Regiao'] = 'Sul'"
      ],
      "id": "933ac9f4",
      "execution_count": null,
      "outputs": []
    },
    {
      "cell_type": "code",
      "metadata": {
        "id": "290a02e1"
      },
      "source": [
        "def mapa_calor(df, cols, normalize=False, values=None, aggfunc=None):\n",
        "    temp = cols\n",
        "    cm = sns.light_palette(\"blue\", as_cmap=True)\n",
        "    return pd.crosstab(df[temp[0]], df[temp[1]],\n",
        "                       normalize=normalize, values=values, aggfunc=aggfunc).style.background_gradient(cmap = cm)"
      ],
      "id": "290a02e1",
      "execution_count": null,
      "outputs": []
    },
    {
      "cell_type": "code",
      "metadata": {
        "id": "4eb74614",
        "outputId": "62ca5aea-547a-4038-ff29-04f81af00bfe"
      },
      "source": [
        "mapa_calor(df[df['preco'] != -1], ['estado_vendedor', 'Regiao'], \n",
        "              values=df[df['preco'] != -1]['frete'], aggfunc='mean')"
      ],
      "id": "4eb74614",
      "execution_count": null,
      "outputs": [
        {
          "data": {
            "text/html": [
              "<style  type=\"text/css\" >\n",
              "#T_0ac3a_row0_col0,#T_0ac3a_row0_col1,#T_0ac3a_row0_col2,#T_0ac3a_row0_col4,#T_0ac3a_row1_col0,#T_0ac3a_row1_col2,#T_0ac3a_row1_col4,#T_0ac3a_row11_col0,#T_0ac3a_row11_col1,#T_0ac3a_row11_col2,#T_0ac3a_row12_col4,#T_0ac3a_row14_col0,#T_0ac3a_row14_col2,#T_0ac3a_row18_col0,#T_0ac3a_row18_col2{\n",
              "            background-color:  #000000;\n",
              "            color:  #f1f1f1;\n",
              "        }#T_0ac3a_row0_col3{\n",
              "            background-color:  #8484f8;\n",
              "            color:  #000000;\n",
              "        }#T_0ac3a_row1_col1{\n",
              "            background-color:  #aeaef6;\n",
              "            color:  #000000;\n",
              "        }#T_0ac3a_row1_col3,#T_0ac3a_row9_col0{\n",
              "            background-color:  #b4b4f6;\n",
              "            color:  #000000;\n",
              "        }#T_0ac3a_row2_col0,#T_0ac3a_row8_col4,#T_0ac3a_row13_col3,#T_0ac3a_row22_col1{\n",
              "            background-color:  #a3a3f7;\n",
              "            color:  #000000;\n",
              "        }#T_0ac3a_row2_col1{\n",
              "            background-color:  #c9c9f5;\n",
              "            color:  #000000;\n",
              "        }#T_0ac3a_row2_col2,#T_0ac3a_row8_col1{\n",
              "            background-color:  #9292f8;\n",
              "            color:  #000000;\n",
              "        }#T_0ac3a_row2_col3{\n",
              "            background-color:  #7f7ff9;\n",
              "            color:  #000000;\n",
              "        }#T_0ac3a_row2_col4{\n",
              "            background-color:  #5656fb;\n",
              "            color:  #f1f1f1;\n",
              "        }#T_0ac3a_row3_col0,#T_0ac3a_row3_col2,#T_0ac3a_row3_col4,#T_0ac3a_row12_col3,#T_0ac3a_row18_col1{\n",
              "            background-color:  #0000ff;\n",
              "            color:  #f1f1f1;\n",
              "        }#T_0ac3a_row3_col1{\n",
              "            background-color:  #a7a7f7;\n",
              "            color:  #000000;\n",
              "        }#T_0ac3a_row3_col3{\n",
              "            background-color:  #2929fd;\n",
              "            color:  #f1f1f1;\n",
              "        }#T_0ac3a_row4_col0,#T_0ac3a_row12_col2,#T_0ac3a_row17_col1,#T_0ac3a_row19_col4,#T_0ac3a_row22_col3{\n",
              "            background-color:  #f0f0f3;\n",
              "            color:  #000000;\n",
              "        }#T_0ac3a_row4_col1,#T_0ac3a_row4_col4,#T_0ac3a_row19_col3{\n",
              "            background-color:  #b1b1f6;\n",
              "            color:  #000000;\n",
              "        }#T_0ac3a_row4_col2{\n",
              "            background-color:  #6565fa;\n",
              "            color:  #000000;\n",
              "        }#T_0ac3a_row4_col3,#T_0ac3a_row21_col4{\n",
              "            background-color:  #d9d9f4;\n",
              "            color:  #000000;\n",
              "        }#T_0ac3a_row5_col0{\n",
              "            background-color:  #8383f8;\n",
              "            color:  #000000;\n",
              "        }#T_0ac3a_row5_col1,#T_0ac3a_row10_col1{\n",
              "            background-color:  #7e7ef9;\n",
              "            color:  #000000;\n",
              "        }#T_0ac3a_row5_col2{\n",
              "            background-color:  #5f5ffa;\n",
              "            color:  #000000;\n",
              "        }#T_0ac3a_row5_col3,#T_0ac3a_row13_col0{\n",
              "            background-color:  #9e9ef7;\n",
              "            color:  #000000;\n",
              "        }#T_0ac3a_row5_col4{\n",
              "            background-color:  #5454fb;\n",
              "            color:  #f1f1f1;\n",
              "        }#T_0ac3a_row6_col0{\n",
              "            background-color:  #eaeaf3;\n",
              "            color:  #000000;\n",
              "        }#T_0ac3a_row6_col1{\n",
              "            background-color:  #9696f7;\n",
              "            color:  #000000;\n",
              "        }#T_0ac3a_row6_col2,#T_0ac3a_row13_col1{\n",
              "            background-color:  #dcdcf4;\n",
              "            color:  #000000;\n",
              "        }#T_0ac3a_row6_col3,#T_0ac3a_row22_col2{\n",
              "            background-color:  #bebef5;\n",
              "            color:  #000000;\n",
              "        }#T_0ac3a_row6_col4{\n",
              "            background-color:  #9999f7;\n",
              "            color:  #000000;\n",
              "        }#T_0ac3a_row7_col0,#T_0ac3a_row8_col0{\n",
              "            background-color:  #b0b0f6;\n",
              "            color:  #000000;\n",
              "        }#T_0ac3a_row7_col1,#T_0ac3a_row10_col2{\n",
              "            background-color:  #d8d8f4;\n",
              "            color:  #000000;\n",
              "        }#T_0ac3a_row7_col2{\n",
              "            background-color:  #d3d3f4;\n",
              "            color:  #000000;\n",
              "        }#T_0ac3a_row7_col3{\n",
              "            background-color:  #8b8bf8;\n",
              "            color:  #000000;\n",
              "        }#T_0ac3a_row7_col4{\n",
              "            background-color:  #3f3ffc;\n",
              "            color:  #f1f1f1;\n",
              "        }#T_0ac3a_row8_col2,#T_0ac3a_row13_col2{\n",
              "            background-color:  #a2a2f7;\n",
              "            color:  #000000;\n",
              "        }#T_0ac3a_row8_col3{\n",
              "            background-color:  #cecef4;\n",
              "            color:  #000000;\n",
              "        }#T_0ac3a_row9_col1{\n",
              "            background-color:  #a9a9f6;\n",
              "            color:  #000000;\n",
              "        }#T_0ac3a_row9_col2,#T_0ac3a_row15_col4{\n",
              "            background-color:  #efeff3;\n",
              "            color:  #000000;\n",
              "        }#T_0ac3a_row9_col3{\n",
              "            background-color:  #ccccf5;\n",
              "            color:  #000000;\n",
              "        }#T_0ac3a_row9_col4{\n",
              "            background-color:  #bdbdf5;\n",
              "            color:  #000000;\n",
              "        }#T_0ac3a_row10_col0{\n",
              "            background-color:  #bfbff5;\n",
              "            color:  #000000;\n",
              "        }#T_0ac3a_row10_col3{\n",
              "            background-color:  #7c7cf9;\n",
              "            color:  #000000;\n",
              "        }#T_0ac3a_row10_col4{\n",
              "            background-color:  #7a7af9;\n",
              "            color:  #000000;\n",
              "        }#T_0ac3a_row11_col3{\n",
              "            background-color:  #e9e9f3;\n",
              "            color:  #000000;\n",
              "        }#T_0ac3a_row11_col4{\n",
              "            background-color:  #7272f9;\n",
              "            color:  #000000;\n",
              "        }#T_0ac3a_row12_col0{\n",
              "            background-color:  #7b7bf9;\n",
              "            color:  #000000;\n",
              "        }#T_0ac3a_row12_col1{\n",
              "            background-color:  #d7d7f4;\n",
              "            color:  #000000;\n",
              "        }#T_0ac3a_row13_col4{\n",
              "            background-color:  #0a0afe;\n",
              "            color:  #f1f1f1;\n",
              "        }#T_0ac3a_row14_col1{\n",
              "            background-color:  #b6b6f6;\n",
              "            color:  #000000;\n",
              "        }#T_0ac3a_row14_col3,#T_0ac3a_row20_col1{\n",
              "            background-color:  #4040fc;\n",
              "            color:  #f1f1f1;\n",
              "        }#T_0ac3a_row14_col4{\n",
              "            background-color:  #2121fd;\n",
              "            color:  #f1f1f1;\n",
              "        }#T_0ac3a_row15_col0,#T_0ac3a_row15_col2{\n",
              "            background-color:  #9393f8;\n",
              "            color:  #000000;\n",
              "        }#T_0ac3a_row15_col1{\n",
              "            background-color:  #6161fa;\n",
              "            color:  #000000;\n",
              "        }#T_0ac3a_row15_col3{\n",
              "            background-color:  #d0d0f4;\n",
              "            color:  #000000;\n",
              "        }#T_0ac3a_row16_col0{\n",
              "            background-color:  #cecef5;\n",
              "            color:  #000000;\n",
              "        }#T_0ac3a_row16_col1{\n",
              "            background-color:  #9797f7;\n",
              "            color:  #000000;\n",
              "        }#T_0ac3a_row16_col2{\n",
              "            background-color:  #adadf6;\n",
              "            color:  #000000;\n",
              "        }#T_0ac3a_row16_col3{\n",
              "            background-color:  #ebebf3;\n",
              "            color:  #000000;\n",
              "        }#T_0ac3a_row16_col4,#T_0ac3a_row21_col2{\n",
              "            background-color:  #dedef4;\n",
              "            color:  #000000;\n",
              "        }#T_0ac3a_row17_col0{\n",
              "            background-color:  #c4c4f5;\n",
              "            color:  #000000;\n",
              "        }#T_0ac3a_row17_col2{\n",
              "            background-color:  #ddddf4;\n",
              "            color:  #000000;\n",
              "        }#T_0ac3a_row17_col3{\n",
              "            background-color:  #6969fa;\n",
              "            color:  #000000;\n",
              "        }#T_0ac3a_row17_col4{\n",
              "            background-color:  #3535fc;\n",
              "            color:  #f1f1f1;\n",
              "        }#T_0ac3a_row18_col3{\n",
              "            background-color:  #1919fe;\n",
              "            color:  #f1f1f1;\n",
              "        }#T_0ac3a_row18_col4{\n",
              "            background-color:  #3b3bfc;\n",
              "            color:  #f1f1f1;\n",
              "        }#T_0ac3a_row19_col0{\n",
              "            background-color:  #9494f7;\n",
              "            color:  #000000;\n",
              "        }#T_0ac3a_row19_col1{\n",
              "            background-color:  #4747fb;\n",
              "            color:  #f1f1f1;\n",
              "        }#T_0ac3a_row19_col2{\n",
              "            background-color:  #9d9df7;\n",
              "            color:  #000000;\n",
              "        }#T_0ac3a_row20_col0{\n",
              "            background-color:  #8888f8;\n",
              "            color:  #000000;\n",
              "        }#T_0ac3a_row20_col2,#T_0ac3a_row21_col3{\n",
              "            background-color:  #8080f8;\n",
              "            color:  #000000;\n",
              "        }#T_0ac3a_row20_col3{\n",
              "            background-color:  #babaf6;\n",
              "            color:  #000000;\n",
              "        }#T_0ac3a_row20_col4{\n",
              "            background-color:  #e0e0f4;\n",
              "            color:  #000000;\n",
              "        }#T_0ac3a_row21_col0{\n",
              "            background-color:  #8686f8;\n",
              "            color:  #000000;\n",
              "        }#T_0ac3a_row21_col1{\n",
              "            background-color:  #7878f9;\n",
              "            color:  #000000;\n",
              "        }#T_0ac3a_row22_col0{\n",
              "            background-color:  #cacaf5;\n",
              "            color:  #000000;\n",
              "        }#T_0ac3a_row22_col4{\n",
              "            background-color:  #dfdff4;\n",
              "            color:  #000000;\n",
              "        }</style><table id=\"T_0ac3a_\" ><thead>    <tr>        <th class=\"index_name level0\" >Regiao</th>        <th class=\"col_heading level0 col0\" >Centro-Oeste</th>        <th class=\"col_heading level0 col1\" >Nordeste</th>        <th class=\"col_heading level0 col2\" >Norte</th>        <th class=\"col_heading level0 col3\" >Sudeste</th>        <th class=\"col_heading level0 col4\" >Sul</th>    </tr>    <tr>        <th class=\"index_name level0\" >estado_vendedor</th>        <th class=\"blank\" ></th>        <th class=\"blank\" ></th>        <th class=\"blank\" ></th>        <th class=\"blank\" ></th>        <th class=\"blank\" ></th>    </tr></thead><tbody>\n",
              "                <tr>\n",
              "                        <th id=\"T_0ac3a_level0_row0\" class=\"row_heading level0 row0\" >AC</th>\n",
              "                        <td id=\"T_0ac3a_row0_col0\" class=\"data row0 col0\" >nan</td>\n",
              "                        <td id=\"T_0ac3a_row0_col1\" class=\"data row0 col1\" >nan</td>\n",
              "                        <td id=\"T_0ac3a_row0_col2\" class=\"data row0 col2\" >nan</td>\n",
              "                        <td id=\"T_0ac3a_row0_col3\" class=\"data row0 col3\" >32.840000</td>\n",
              "                        <td id=\"T_0ac3a_row0_col4\" class=\"data row0 col4\" >nan</td>\n",
              "            </tr>\n",
              "            <tr>\n",
              "                        <th id=\"T_0ac3a_level0_row1\" class=\"row_heading level0 row1\" >AM</th>\n",
              "                        <td id=\"T_0ac3a_row1_col0\" class=\"data row1 col0\" >nan</td>\n",
              "                        <td id=\"T_0ac3a_row1_col1\" class=\"data row1 col1\" >28.255000</td>\n",
              "                        <td id=\"T_0ac3a_row1_col2\" class=\"data row1 col2\" >nan</td>\n",
              "                        <td id=\"T_0ac3a_row1_col3\" class=\"data row1 col3\" >25.290000</td>\n",
              "                        <td id=\"T_0ac3a_row1_col4\" class=\"data row1 col4\" >nan</td>\n",
              "            </tr>\n",
              "            <tr>\n",
              "                        <th id=\"T_0ac3a_level0_row2\" class=\"row_heading level0 row2\" >BA</th>\n",
              "                        <td id=\"T_0ac3a_row2_col0\" class=\"data row2 col0\" >29.977381</td>\n",
              "                        <td id=\"T_0ac3a_row2_col1\" class=\"data row2 col1\" >22.736355</td>\n",
              "                        <td id=\"T_0ac3a_row2_col2\" class=\"data row2 col2\" >46.290476</td>\n",
              "                        <td id=\"T_0ac3a_row2_col3\" class=\"data row2 col3\" >33.618110</td>\n",
              "                        <td id=\"T_0ac3a_row2_col4\" class=\"data row2 col4\" >39.643671</td>\n",
              "            </tr>\n",
              "            <tr>\n",
              "                        <th id=\"T_0ac3a_level0_row3\" class=\"row_heading level0 row3\" >CE</th>\n",
              "                        <td id=\"T_0ac3a_row3_col0\" class=\"data row3 col0\" >65.456667</td>\n",
              "                        <td id=\"T_0ac3a_row3_col1\" class=\"data row3 col1\" >29.744054</td>\n",
              "                        <td id=\"T_0ac3a_row3_col2\" class=\"data row3 col2\" >85.614000</td>\n",
              "                        <td id=\"T_0ac3a_row3_col3\" class=\"data row3 col3\" >47.044130</td>\n",
              "                        <td id=\"T_0ac3a_row3_col4\" class=\"data row3 col4\" >51.445556</td>\n",
              "            </tr>\n",
              "            <tr>\n",
              "                        <th id=\"T_0ac3a_level0_row4\" class=\"row_heading level0 row4\" >DF</th>\n",
              "                        <td id=\"T_0ac3a_row4_col0\" class=\"data row4 col0\" >13.022231</td>\n",
              "                        <td id=\"T_0ac3a_row4_col1\" class=\"data row4 col1\" >27.532778</td>\n",
              "                        <td id=\"T_0ac3a_row4_col2\" class=\"data row4 col2\" >58.371935</td>\n",
              "                        <td id=\"T_0ac3a_row4_col3\" class=\"data row4 col3\" >19.654101</td>\n",
              "                        <td id=\"T_0ac3a_row4_col4\" class=\"data row4 col4\" >27.076867</td>\n",
              "            </tr>\n",
              "            <tr>\n",
              "                        <th id=\"T_0ac3a_level0_row5\" class=\"row_heading level0 row5\" >ES</th>\n",
              "                        <td id=\"T_0ac3a_row5_col0\" class=\"data row5 col0\" >36.895833</td>\n",
              "                        <td id=\"T_0ac3a_row5_col1\" class=\"data row5 col1\" >38.183269</td>\n",
              "                        <td id=\"T_0ac3a_row5_col2\" class=\"data row5 col2\" >60.022857</td>\n",
              "                        <td id=\"T_0ac3a_row5_col3\" class=\"data row5 col3\" >28.753852</td>\n",
              "                        <td id=\"T_0ac3a_row5_col4\" class=\"data row5 col4\" >39.894510</td>\n",
              "            </tr>\n",
              "            <tr>\n",
              "                        <th id=\"T_0ac3a_level0_row6\" class=\"row_heading level0 row6\" >GO</th>\n",
              "                        <td id=\"T_0ac3a_row6_col0\" class=\"data row6 col0\" >14.573721</td>\n",
              "                        <td id=\"T_0ac3a_row6_col1\" class=\"data row6 col1\" >33.369841</td>\n",
              "                        <td id=\"T_0ac3a_row6_col2\" class=\"data row6 col2\" >26.595909</td>\n",
              "                        <td id=\"T_0ac3a_row6_col3\" class=\"data row6 col3\" >23.764630</td>\n",
              "                        <td id=\"T_0ac3a_row6_col4\" class=\"data row6 col4\" >30.426667</td>\n",
              "            </tr>\n",
              "            <tr>\n",
              "                        <th id=\"T_0ac3a_level0_row7\" class=\"row_heading level0 row7\" >MA</th>\n",
              "                        <td id=\"T_0ac3a_row7_col0\" class=\"data row7 col0\" >27.150192</td>\n",
              "                        <td id=\"T_0ac3a_row7_col1\" class=\"data row7 col1\" >19.453333</td>\n",
              "                        <td id=\"T_0ac3a_row7_col2\" class=\"data row7 col2\" >28.859000</td>\n",
              "                        <td id=\"T_0ac3a_row7_col3\" class=\"data row7 col3\" >31.880362</td>\n",
              "                        <td id=\"T_0ac3a_row7_col4\" class=\"data row7 col4\" >42.660652</td>\n",
              "            </tr>\n",
              "            <tr>\n",
              "                        <th id=\"T_0ac3a_level0_row8\" class=\"row_heading level0 row8\" >MG</th>\n",
              "                        <td id=\"T_0ac3a_row8_col0\" class=\"data row8 col0\" >26.980406</td>\n",
              "                        <td id=\"T_0ac3a_row8_col1\" class=\"data row8 col1\" >34.144730</td>\n",
              "                        <td id=\"T_0ac3a_row8_col2\" class=\"data row8 col2\" >41.923133</td>\n",
              "                        <td id=\"T_0ac3a_row8_col3\" class=\"data row8 col3\" >21.278114</td>\n",
              "                        <td id=\"T_0ac3a_row8_col4\" class=\"data row8 col4\" >28.976495</td>\n",
              "            </tr>\n",
              "            <tr>\n",
              "                        <th id=\"T_0ac3a_level0_row9\" class=\"row_heading level0 row9\" >MS</th>\n",
              "                        <td id=\"T_0ac3a_row9_col0\" class=\"data row9 col0\" >26.228571</td>\n",
              "                        <td id=\"T_0ac3a_row9_col1\" class=\"data row9 col1\" >29.412308</td>\n",
              "                        <td id=\"T_0ac3a_row9_col2\" class=\"data row9 col2\" >21.410000</td>\n",
              "                        <td id=\"T_0ac3a_row9_col3\" class=\"data row9 col3\" >21.608750</td>\n",
              "                        <td id=\"T_0ac3a_row9_col4\" class=\"data row9 col4\" >25.600000</td>\n",
              "            </tr>\n",
              "            <tr>\n",
              "                        <th id=\"T_0ac3a_level0_row10\" class=\"row_heading level0 row10\" >MT</th>\n",
              "                        <td id=\"T_0ac3a_row10_col0\" class=\"data row10 col0\" >23.865806</td>\n",
              "                        <td id=\"T_0ac3a_row10_col1\" class=\"data row10 col1\" >38.166667</td>\n",
              "                        <td id=\"T_0ac3a_row10_col2\" class=\"data row10 col2\" >27.533333</td>\n",
              "                        <td id=\"T_0ac3a_row10_col3\" class=\"data row10 col3\" >34.021389</td>\n",
              "                        <td id=\"T_0ac3a_row10_col4\" class=\"data row10 col4\" >34.652000</td>\n",
              "            </tr>\n",
              "            <tr>\n",
              "                        <th id=\"T_0ac3a_level0_row11\" class=\"row_heading level0 row11\" >PA</th>\n",
              "                        <td id=\"T_0ac3a_row11_col0\" class=\"data row11 col0\" >nan</td>\n",
              "                        <td id=\"T_0ac3a_row11_col1\" class=\"data row11 col1\" >nan</td>\n",
              "                        <td id=\"T_0ac3a_row11_col2\" class=\"data row11 col2\" >nan</td>\n",
              "                        <td id=\"T_0ac3a_row11_col3\" class=\"data row11 col3\" >17.051429</td>\n",
              "                        <td id=\"T_0ac3a_row11_col4\" class=\"data row11 col4\" >35.750000</td>\n",
              "            </tr>\n",
              "            <tr>\n",
              "                        <th id=\"T_0ac3a_level0_row12\" class=\"row_heading level0 row12\" >PB</th>\n",
              "                        <td id=\"T_0ac3a_row12_col0\" class=\"data row12 col0\" >38.796667</td>\n",
              "                        <td id=\"T_0ac3a_row12_col1\" class=\"data row12 col1\" >19.740000</td>\n",
              "                        <td id=\"T_0ac3a_row12_col2\" class=\"data row12 col2\" >20.930000</td>\n",
              "                        <td id=\"T_0ac3a_row12_col3\" class=\"data row12 col3\" >53.571500</td>\n",
              "                        <td id=\"T_0ac3a_row12_col4\" class=\"data row12 col4\" >nan</td>\n",
              "            </tr>\n",
              "            <tr>\n",
              "                        <th id=\"T_0ac3a_level0_row13\" class=\"row_heading level0 row13\" >PE</th>\n",
              "                        <td id=\"T_0ac3a_row13_col0\" class=\"data row13 col0\" >30.903750</td>\n",
              "                        <td id=\"T_0ac3a_row13_col1\" class=\"data row13 col1\" >18.845508</td>\n",
              "                        <td id=\"T_0ac3a_row13_col2\" class=\"data row13 col2\" >41.911538</td>\n",
              "                        <td id=\"T_0ac3a_row13_col3\" class=\"data row13 col3\" >28.030597</td>\n",
              "                        <td id=\"T_0ac3a_row13_col4\" class=\"data row13 col4\" >49.931765</td>\n",
              "            </tr>\n",
              "            <tr>\n",
              "                        <th id=\"T_0ac3a_level0_row14\" class=\"row_heading level0 row14\" >PI</th>\n",
              "                        <td id=\"T_0ac3a_row14_col0\" class=\"data row14 col0\" >nan</td>\n",
              "                        <td id=\"T_0ac3a_row14_col1\" class=\"data row14 col1\" >26.516000</td>\n",
              "                        <td id=\"T_0ac3a_row14_col2\" class=\"data row14 col2\" >nan</td>\n",
              "                        <td id=\"T_0ac3a_row14_col3\" class=\"data row14 col3\" >43.406000</td>\n",
              "                        <td id=\"T_0ac3a_row14_col4\" class=\"data row14 col4\" >46.855000</td>\n",
              "            </tr>\n",
              "            <tr>\n",
              "                        <th id=\"T_0ac3a_level0_row15\" class=\"row_heading level0 row15\" >PR</th>\n",
              "                        <td id=\"T_0ac3a_row15_col0\" class=\"data row15 col0\" >33.327472</td>\n",
              "                        <td id=\"T_0ac3a_row15_col1\" class=\"data row15 col1\" >44.211625</td>\n",
              "                        <td id=\"T_0ac3a_row15_col2\" class=\"data row15 col2\" >46.113250</td>\n",
              "                        <td id=\"T_0ac3a_row15_col3\" class=\"data row15 col3\" >20.893052</td>\n",
              "                        <td id=\"T_0ac3a_row15_col4\" class=\"data row15 col4\" >18.750336</td>\n",
              "            </tr>\n",
              "            <tr>\n",
              "                        <th id=\"T_0ac3a_level0_row16\" class=\"row_heading level0 row16\" >RJ</th>\n",
              "                        <td id=\"T_0ac3a_row16_col0\" class=\"data row16 col0\" >20.754098</td>\n",
              "                        <td id=\"T_0ac3a_row16_col1\" class=\"data row16 col1\" >33.134978</td>\n",
              "                        <td id=\"T_0ac3a_row16_col2\" class=\"data row16 col2\" >39.129747</td>\n",
              "                        <td id=\"T_0ac3a_row16_col3\" class=\"data row16 col3\" >16.832802</td>\n",
              "                        <td id=\"T_0ac3a_row16_col4\" class=\"data row16 col4\" >21.075556</td>\n",
              "            </tr>\n",
              "            <tr>\n",
              "                        <th id=\"T_0ac3a_level0_row17\" class=\"row_heading level0 row17\" >RN</th>\n",
              "                        <td id=\"T_0ac3a_row17_col0\" class=\"data row17 col0\" >22.850000</td>\n",
              "                        <td id=\"T_0ac3a_row17_col1\" class=\"data row17 col1\" >14.346944</td>\n",
              "                        <td id=\"T_0ac3a_row17_col2\" class=\"data row17 col2\" >26.290000</td>\n",
              "                        <td id=\"T_0ac3a_row17_col3\" class=\"data row17 col3\" >37.073750</td>\n",
              "                        <td id=\"T_0ac3a_row17_col4\" class=\"data row17 col4\" >44.189000</td>\n",
              "            </tr>\n",
              "            <tr>\n",
              "                        <th id=\"T_0ac3a_level0_row18\" class=\"row_heading level0 row18\" >RO</th>\n",
              "                        <td id=\"T_0ac3a_row18_col0\" class=\"data row18 col0\" >nan</td>\n",
              "                        <td id=\"T_0ac3a_row18_col1\" class=\"data row18 col1\" >64.570000</td>\n",
              "                        <td id=\"T_0ac3a_row18_col2\" class=\"data row18 col2\" >nan</td>\n",
              "                        <td id=\"T_0ac3a_row18_col3\" class=\"data row18 col3\" >49.707000</td>\n",
              "                        <td id=\"T_0ac3a_row18_col4\" class=\"data row18 col4\" >43.285000</td>\n",
              "            </tr>\n",
              "            <tr>\n",
              "                        <th id=\"T_0ac3a_level0_row19\" class=\"row_heading level0 row19\" >RS</th>\n",
              "                        <td id=\"T_0ac3a_row19_col0\" class=\"data row19 col0\" >33.175041</td>\n",
              "                        <td id=\"T_0ac3a_row19_col1\" class=\"data row19 col1\" >49.704040</td>\n",
              "                        <td id=\"T_0ac3a_row19_col2\" class=\"data row19 col2\" >43.254815</td>\n",
              "                        <td id=\"T_0ac3a_row19_col3\" class=\"data row19 col3\" >25.832784</td>\n",
              "                        <td id=\"T_0ac3a_row19_col4\" class=\"data row19 col4\" >18.368468</td>\n",
              "            </tr>\n",
              "            <tr>\n",
              "                        <th id=\"T_0ac3a_level0_row20\" class=\"row_heading level0 row20\" >SC</th>\n",
              "                        <td id=\"T_0ac3a_row20_col0\" class=\"data row20 col0\" >35.855525</td>\n",
              "                        <td id=\"T_0ac3a_row20_col1\" class=\"data row20 col1\" >51.179237</td>\n",
              "                        <td id=\"T_0ac3a_row20_col2\" class=\"data row20 col2\" >51.120175</td>\n",
              "                        <td id=\"T_0ac3a_row20_col3\" class=\"data row20 col3\" >24.480291</td>\n",
              "                        <td id=\"T_0ac3a_row20_col4\" class=\"data row20 col4\" >20.638714</td>\n",
              "            </tr>\n",
              "            <tr>\n",
              "                        <th id=\"T_0ac3a_level0_row21\" class=\"row_heading level0 row21\" >SE</th>\n",
              "                        <td id=\"T_0ac3a_row21_col0\" class=\"data row21 col0\" >36.330000</td>\n",
              "                        <td id=\"T_0ac3a_row21_col1\" class=\"data row21 col1\" >39.500000</td>\n",
              "                        <td id=\"T_0ac3a_row21_col2\" class=\"data row21 col2\" >26.000000</td>\n",
              "                        <td id=\"T_0ac3a_row21_col3\" class=\"data row21 col3\" >33.450000</td>\n",
              "                        <td id=\"T_0ac3a_row21_col4\" class=\"data row21 col4\" >21.680000</td>\n",
              "            </tr>\n",
              "            <tr>\n",
              "                        <th id=\"T_0ac3a_level0_row22\" class=\"row_heading level0 row22\" >SP</th>\n",
              "                        <td id=\"T_0ac3a_row22_col0\" class=\"data row22 col0\" >21.457067</td>\n",
              "                        <td id=\"T_0ac3a_row22_col1\" class=\"data row22 col1\" >30.528151</td>\n",
              "                        <td id=\"T_0ac3a_row22_col2\" class=\"data row22 col2\" >34.331660</td>\n",
              "                        <td id=\"T_0ac3a_row22_col3\" class=\"data row22 col3\" >15.839973</td>\n",
              "                        <td id=\"T_0ac3a_row22_col4\" class=\"data row22 col4\" >20.733294</td>\n",
              "            </tr>\n",
              "    </tbody></table>"
            ],
            "text/plain": [
              "<pandas.io.formats.style.Styler at 0x1da335c5eb0>"
            ]
          },
          "execution_count": 19,
          "metadata": {},
          "output_type": "execute_result"
        }
      ]
    },
    {
      "cell_type": "markdown",
      "metadata": {
        "id": "a34c1450"
      },
      "source": [
        "###### Criando o dataframe de usuario e a coluna 'RECENCIA'"
      ],
      "id": "a34c1450"
    },
    {
      "cell_type": "code",
      "metadata": {
        "id": "52935d89"
      },
      "source": [
        "df_olist = df[['id_unico_cliente','id_cliente','horario_pedido','item_id','preco']]"
      ],
      "id": "52935d89",
      "execution_count": null,
      "outputs": []
    },
    {
      "cell_type": "code",
      "metadata": {
        "id": "e72cabd6"
      },
      "source": [
        "df_compra = df.groupby('id_unico_cliente').horario_pedido.max().reset_index()\n",
        "df_compra.columns = ['id_unico_cliente','DataMaxCompra']\n",
        "df_compra['DataMaxCompra'] = pd.to_datetime(df_compra['DataMaxCompra'])"
      ],
      "id": "e72cabd6",
      "execution_count": null,
      "outputs": []
    },
    {
      "cell_type": "code",
      "metadata": {
        "id": "9b357761"
      },
      "source": [
        "df_compra['Recencia'] = (df_compra['DataMaxCompra'].max() - df_compra['DataMaxCompra']).dt.days"
      ],
      "id": "9b357761",
      "execution_count": null,
      "outputs": []
    },
    {
      "cell_type": "code",
      "metadata": {
        "id": "346cc09e"
      },
      "source": [
        "df_usuario = pd.merge(df_olist,df_compra[['id_unico_cliente','Recencia']], on='id_unico_cliente')"
      ],
      "id": "346cc09e",
      "execution_count": null,
      "outputs": []
    },
    {
      "cell_type": "code",
      "metadata": {
        "id": "8b590bab",
        "outputId": "55d6ef59-e4e1-48ab-e53f-04e7f84a3225"
      },
      "source": [
        "df_usuario.head()"
      ],
      "id": "8b590bab",
      "execution_count": null,
      "outputs": [
        {
          "data": {
            "text/html": [
              "<div>\n",
              "<style scoped>\n",
              "    .dataframe tbody tr th:only-of-type {\n",
              "        vertical-align: middle;\n",
              "    }\n",
              "\n",
              "    .dataframe tbody tr th {\n",
              "        vertical-align: top;\n",
              "    }\n",
              "\n",
              "    .dataframe thead th {\n",
              "        text-align: right;\n",
              "    }\n",
              "</style>\n",
              "<table border=\"1\" class=\"dataframe\">\n",
              "  <thead>\n",
              "    <tr style=\"text-align: right;\">\n",
              "      <th></th>\n",
              "      <th>id_unico_cliente</th>\n",
              "      <th>id_cliente</th>\n",
              "      <th>horario_pedido</th>\n",
              "      <th>item_id</th>\n",
              "      <th>preco</th>\n",
              "      <th>Recencia</th>\n",
              "    </tr>\n",
              "  </thead>\n",
              "  <tbody>\n",
              "    <tr>\n",
              "      <th>0</th>\n",
              "      <td>861eff4711a542e4b93843c6dd7febb0</td>\n",
              "      <td>06b8999e2fba1a1fbc88172c00ba8bc7</td>\n",
              "      <td>2017-05-16 15:05:35</td>\n",
              "      <td>1</td>\n",
              "      <td>124.99</td>\n",
              "      <td>474</td>\n",
              "    </tr>\n",
              "    <tr>\n",
              "      <th>1</th>\n",
              "      <td>9eae34bbd3a474ec5d07949ca7de67c0</td>\n",
              "      <td>8912fc0c3bbf1e2fbf35819e21706718</td>\n",
              "      <td>2017-11-09 00:50:13</td>\n",
              "      <td>1</td>\n",
              "      <td>112.99</td>\n",
              "      <td>298</td>\n",
              "    </tr>\n",
              "    <tr>\n",
              "      <th>2</th>\n",
              "      <td>9eae34bbd3a474ec5d07949ca7de67c0</td>\n",
              "      <td>8912fc0c3bbf1e2fbf35819e21706718</td>\n",
              "      <td>2017-11-09 00:50:13</td>\n",
              "      <td>2</td>\n",
              "      <td>112.99</td>\n",
              "      <td>298</td>\n",
              "    </tr>\n",
              "    <tr>\n",
              "      <th>3</th>\n",
              "      <td>3c799d181c34d51f6d44bbbc563024db</td>\n",
              "      <td>f0ac8e5a239118859b1734e1087cbb1f</td>\n",
              "      <td>2017-05-07 20:11:26</td>\n",
              "      <td>1</td>\n",
              "      <td>124.99</td>\n",
              "      <td>483</td>\n",
              "    </tr>\n",
              "    <tr>\n",
              "      <th>4</th>\n",
              "      <td>23397e992b09769faf5e66f9e171a241</td>\n",
              "      <td>6bc8d08963a135220ed6c6d098831f84</td>\n",
              "      <td>2018-02-03 19:45:40</td>\n",
              "      <td>1</td>\n",
              "      <td>106.99</td>\n",
              "      <td>211</td>\n",
              "    </tr>\n",
              "  </tbody>\n",
              "</table>\n",
              "</div>"
            ],
            "text/plain": [
              "                   id_unico_cliente                        id_cliente  \\\n",
              "0  861eff4711a542e4b93843c6dd7febb0  06b8999e2fba1a1fbc88172c00ba8bc7   \n",
              "1  9eae34bbd3a474ec5d07949ca7de67c0  8912fc0c3bbf1e2fbf35819e21706718   \n",
              "2  9eae34bbd3a474ec5d07949ca7de67c0  8912fc0c3bbf1e2fbf35819e21706718   \n",
              "3  3c799d181c34d51f6d44bbbc563024db  f0ac8e5a239118859b1734e1087cbb1f   \n",
              "4  23397e992b09769faf5e66f9e171a241  6bc8d08963a135220ed6c6d098831f84   \n",
              "\n",
              "        horario_pedido  item_id   preco  Recencia  \n",
              "0  2017-05-16 15:05:35        1  124.99       474  \n",
              "1  2017-11-09 00:50:13        1  112.99       298  \n",
              "2  2017-11-09 00:50:13        2  112.99       298  \n",
              "3  2017-05-07 20:11:26        1  124.99       483  \n",
              "4  2018-02-03 19:45:40        1  106.99       211  "
            ]
          },
          "execution_count": 24,
          "metadata": {},
          "output_type": "execute_result"
        }
      ]
    },
    {
      "cell_type": "markdown",
      "metadata": {
        "id": "b9a91c26"
      },
      "source": [
        "# Regra do cotovelo"
      ],
      "id": "b9a91c26"
    },
    {
      "cell_type": "markdown",
      "metadata": {
        "id": "7733736e"
      },
      "source": [
        "#### Buscar um valor otimo: baixa inércia, porem um numero nao tao grande de clusters."
      ],
      "id": "7733736e"
    },
    {
      "cell_type": "code",
      "metadata": {
        "id": "f72b4a91"
      },
      "source": [
        "def calcular_wcss(data):\n",
        "    wcss = []\n",
        "    for k in range(1,10):\n",
        "        kmeans = KMeans(n_clusters = k)\n",
        "        kmeans.fit(X=data)\n",
        "        data['Clusters']=kmeans.labels_\n",
        "        wcss.append(kmeans.inertia_)\n",
        "    return wcss"
      ],
      "id": "f72b4a91",
      "execution_count": null,
      "outputs": []
    },
    {
      "cell_type": "code",
      "metadata": {
        "id": "d0f10e39"
      },
      "source": [
        "from sklearn.cluster import KMeans\n",
        "\n",
        "df_recencia = df_usuario[['Recencia']]"
      ],
      "id": "d0f10e39",
      "execution_count": null,
      "outputs": []
    },
    {
      "cell_type": "code",
      "metadata": {
        "scrolled": true,
        "id": "f41c6e90",
        "outputId": "3db5396b-38c9-477c-ccf2-c7e736f4b5ad"
      },
      "source": [
        "soma_quadrados = calcular_wcss(df_recencia)"
      ],
      "id": "f41c6e90",
      "execution_count": null,
      "outputs": [
        {
          "name": "stderr",
          "output_type": "stream",
          "text": [
            "<ipython-input-25-af8f6bbb71cc>:6: SettingWithCopyWarning: \n",
            "A value is trying to be set on a copy of a slice from a DataFrame.\n",
            "Try using .loc[row_indexer,col_indexer] = value instead\n",
            "\n",
            "See the caveats in the documentation: https://pandas.pydata.org/pandas-docs/stable/user_guide/indexing.html#returning-a-view-versus-a-copy\n",
            "  data['Clusters']=kmeans.labels_\n",
            "<ipython-input-25-af8f6bbb71cc>:6: SettingWithCopyWarning: \n",
            "A value is trying to be set on a copy of a slice from a DataFrame.\n",
            "Try using .loc[row_indexer,col_indexer] = value instead\n",
            "\n",
            "See the caveats in the documentation: https://pandas.pydata.org/pandas-docs/stable/user_guide/indexing.html#returning-a-view-versus-a-copy\n",
            "  data['Clusters']=kmeans.labels_\n",
            "<ipython-input-25-af8f6bbb71cc>:6: SettingWithCopyWarning: \n",
            "A value is trying to be set on a copy of a slice from a DataFrame.\n",
            "Try using .loc[row_indexer,col_indexer] = value instead\n",
            "\n",
            "See the caveats in the documentation: https://pandas.pydata.org/pandas-docs/stable/user_guide/indexing.html#returning-a-view-versus-a-copy\n",
            "  data['Clusters']=kmeans.labels_\n",
            "<ipython-input-25-af8f6bbb71cc>:6: SettingWithCopyWarning: \n",
            "A value is trying to be set on a copy of a slice from a DataFrame.\n",
            "Try using .loc[row_indexer,col_indexer] = value instead\n",
            "\n",
            "See the caveats in the documentation: https://pandas.pydata.org/pandas-docs/stable/user_guide/indexing.html#returning-a-view-versus-a-copy\n",
            "  data['Clusters']=kmeans.labels_\n",
            "<ipython-input-25-af8f6bbb71cc>:6: SettingWithCopyWarning: \n",
            "A value is trying to be set on a copy of a slice from a DataFrame.\n",
            "Try using .loc[row_indexer,col_indexer] = value instead\n",
            "\n",
            "See the caveats in the documentation: https://pandas.pydata.org/pandas-docs/stable/user_guide/indexing.html#returning-a-view-versus-a-copy\n",
            "  data['Clusters']=kmeans.labels_\n",
            "<ipython-input-25-af8f6bbb71cc>:6: SettingWithCopyWarning: \n",
            "A value is trying to be set on a copy of a slice from a DataFrame.\n",
            "Try using .loc[row_indexer,col_indexer] = value instead\n",
            "\n",
            "See the caveats in the documentation: https://pandas.pydata.org/pandas-docs/stable/user_guide/indexing.html#returning-a-view-versus-a-copy\n",
            "  data['Clusters']=kmeans.labels_\n",
            "<ipython-input-25-af8f6bbb71cc>:6: SettingWithCopyWarning: \n",
            "A value is trying to be set on a copy of a slice from a DataFrame.\n",
            "Try using .loc[row_indexer,col_indexer] = value instead\n",
            "\n",
            "See the caveats in the documentation: https://pandas.pydata.org/pandas-docs/stable/user_guide/indexing.html#returning-a-view-versus-a-copy\n",
            "  data['Clusters']=kmeans.labels_\n",
            "<ipython-input-25-af8f6bbb71cc>:6: SettingWithCopyWarning: \n",
            "A value is trying to be set on a copy of a slice from a DataFrame.\n",
            "Try using .loc[row_indexer,col_indexer] = value instead\n",
            "\n",
            "See the caveats in the documentation: https://pandas.pydata.org/pandas-docs/stable/user_guide/indexing.html#returning-a-view-versus-a-copy\n",
            "  data['Clusters']=kmeans.labels_\n",
            "<ipython-input-25-af8f6bbb71cc>:6: SettingWithCopyWarning: \n",
            "A value is trying to be set on a copy of a slice from a DataFrame.\n",
            "Try using .loc[row_indexer,col_indexer] = value instead\n",
            "\n",
            "See the caveats in the documentation: https://pandas.pydata.org/pandas-docs/stable/user_guide/indexing.html#returning-a-view-versus-a-copy\n",
            "  data['Clusters']=kmeans.labels_\n"
          ]
        }
      ]
    },
    {
      "cell_type": "code",
      "metadata": {
        "id": "0ec59480",
        "outputId": "c42d43b8-03f3-4152-f473-9c8ce0f84f3e"
      },
      "source": [
        "plt.figure(figsize=(10,5))\n",
        "plt.plot(soma_quadrados)\n",
        "plt.xlabel('Numero de Clusters')\n",
        "plt.show()"
      ],
      "id": "0ec59480",
      "execution_count": null,
      "outputs": [
        {
          "data": {
            "image/png": "[encoded data removed]",
            "text/plain": [
              "<Figure size 720x360 with 1 Axes>"
            ]
          },
          "metadata": {
            "needs_background": "light"
          },
          "output_type": "display_data"
        }
      ]
    },
    {
      "cell_type": "markdown",
      "metadata": {
        "id": "1f47789d"
      },
      "source": [
        "###### A inércia fuciona bem em clusters redondos, mas é uma métrica ruim se seus clusters sao de formato irregular.\n",
        "###### Não é uma métrica normalizada, entao se tiver muitas variaveis, pode ter problemas, já que as distancias ficam infladas."
      ],
      "id": "1f47789d"
    },
    {
      "cell_type": "code",
      "metadata": {
        "id": "ffc66f21"
      },
      "source": [
        "import math\n",
        "\n",
        "def numero_otimo_clusters(wcss):\n",
        "    x1, y1 = 2,wcss[0]\n",
        "    x2, y2 = 20, wcss[len(wcss)-1]\n",
        "    \n",
        "    distancia = []\n",
        "    for i in range(len(wcss)):\n",
        "        \n",
        "        x0 = i+2\n",
        "        y0 = wcss[i]\n",
        "        \n",
        "        numerador = abs((y2 - y1)*x0 - (x2 - x1)*y0 + x2*y1 - y2*x1)\n",
        "        denominador = math.sqrt((y2 - y1)**2 + (x2 - x1)**2)\n",
        "        distancia.append(numerador/denominador)\n",
        "        \n",
        "    return distancia.index(max(distancia)) + 2"
      ],
      "id": "ffc66f21",
      "execution_count": null,
      "outputs": []
    },
    {
      "cell_type": "code",
      "metadata": {
        "id": "80ea7f20"
      },
      "source": [
        "n = numero_otimo_clusters(soma_quadrados)"
      ],
      "id": "80ea7f20",
      "execution_count": null,
      "outputs": []
    },
    {
      "cell_type": "code",
      "metadata": {
        "id": "2da095c1",
        "outputId": "8d49f82d-1edc-4724-9db9-476804ae17a3"
      },
      "source": [
        "n"
      ],
      "id": "2da095c1",
      "execution_count": null,
      "outputs": [
        {
          "data": {
            "text/plain": [
              "4"
            ]
          },
          "execution_count": 31,
          "metadata": {},
          "output_type": "execute_result"
        }
      ]
    },
    {
      "cell_type": "markdown",
      "metadata": {
        "id": "7aa7f0da"
      },
      "source": [
        "### (BONUS) Regra da silhueta para Recencia ▼\n",
        "https://jyotiyadav99111.medium.com/selecting-optimal-number-of-clusters-in-kmeans-algorithm-silhouette-score-c0d9ebb11308"
      ],
      "id": "7aa7f0da"
    },
    {
      "cell_type": "code",
      "metadata": {
        "id": "5082ddcb"
      },
      "source": [
        "# from sklearn.metrics import silhouette_samples, silhouette_score\n",
        "\n",
        "# for i in range(2, 11):\n",
        "#     clusterer = KMeans(n_clusters=i)\n",
        "#     preds = clusterer.fit_predict(df_recencia)\n",
        "#     score = silhouette_score(df_recencia, preds)\n",
        "#     print('Silhueta para ' + str(i) + ' clusters : ' + str(score))"
      ],
      "id": "5082ddcb",
      "execution_count": null,
      "outputs": []
    },
    {
      "cell_type": "markdown",
      "metadata": {
        "id": "c0fd48db"
      },
      "source": [
        "# Clusterização"
      ],
      "id": "c0fd48db"
    },
    {
      "cell_type": "markdown",
      "metadata": {
        "id": "49bc9749"
      },
      "source": [
        "### Clusterizando RECENCIA"
      ],
      "id": "49bc9749"
    },
    {
      "cell_type": "code",
      "metadata": {
        "id": "8c08cb63",
        "outputId": "782dade6-6b10-4d49-c741-c96b565a9fb2"
      },
      "source": [
        "kmeans = KMeans(n_clusters = 4)\n",
        "df_usuario['RecenciaCluster'] = kmeans.fit_predict(df_recencia)\n",
        "df_usuario.head()"
      ],
      "id": "8c08cb63",
      "execution_count": null,
      "outputs": [
        {
          "data": {
            "text/html": [
              "<div>\n",
              "<style scoped>\n",
              "    .dataframe tbody tr th:only-of-type {\n",
              "        vertical-align: middle;\n",
              "    }\n",
              "\n",
              "    .dataframe tbody tr th {\n",
              "        vertical-align: top;\n",
              "    }\n",
              "\n",
              "    .dataframe thead th {\n",
              "        text-align: right;\n",
              "    }\n",
              "</style>\n",
              "<table border=\"1\" class=\"dataframe\">\n",
              "  <thead>\n",
              "    <tr style=\"text-align: right;\">\n",
              "      <th></th>\n",
              "      <th>id_unico_cliente</th>\n",
              "      <th>id_cliente</th>\n",
              "      <th>horario_pedido</th>\n",
              "      <th>item_id</th>\n",
              "      <th>preco</th>\n",
              "      <th>Recencia</th>\n",
              "      <th>RecenciaCluster</th>\n",
              "    </tr>\n",
              "  </thead>\n",
              "  <tbody>\n",
              "    <tr>\n",
              "      <th>0</th>\n",
              "      <td>861eff4711a542e4b93843c6dd7febb0</td>\n",
              "      <td>06b8999e2fba1a1fbc88172c00ba8bc7</td>\n",
              "      <td>2017-05-16 15:05:35</td>\n",
              "      <td>1</td>\n",
              "      <td>124.99</td>\n",
              "      <td>474</td>\n",
              "      <td>2</td>\n",
              "    </tr>\n",
              "    <tr>\n",
              "      <th>1</th>\n",
              "      <td>9eae34bbd3a474ec5d07949ca7de67c0</td>\n",
              "      <td>8912fc0c3bbf1e2fbf35819e21706718</td>\n",
              "      <td>2017-11-09 00:50:13</td>\n",
              "      <td>1</td>\n",
              "      <td>112.99</td>\n",
              "      <td>298</td>\n",
              "      <td>0</td>\n",
              "    </tr>\n",
              "    <tr>\n",
              "      <th>2</th>\n",
              "      <td>9eae34bbd3a474ec5d07949ca7de67c0</td>\n",
              "      <td>8912fc0c3bbf1e2fbf35819e21706718</td>\n",
              "      <td>2017-11-09 00:50:13</td>\n",
              "      <td>2</td>\n",
              "      <td>112.99</td>\n",
              "      <td>298</td>\n",
              "      <td>0</td>\n",
              "    </tr>\n",
              "    <tr>\n",
              "      <th>3</th>\n",
              "      <td>3c799d181c34d51f6d44bbbc563024db</td>\n",
              "      <td>f0ac8e5a239118859b1734e1087cbb1f</td>\n",
              "      <td>2017-05-07 20:11:26</td>\n",
              "      <td>1</td>\n",
              "      <td>124.99</td>\n",
              "      <td>483</td>\n",
              "      <td>2</td>\n",
              "    </tr>\n",
              "    <tr>\n",
              "      <th>4</th>\n",
              "      <td>23397e992b09769faf5e66f9e171a241</td>\n",
              "      <td>6bc8d08963a135220ed6c6d098831f84</td>\n",
              "      <td>2018-02-03 19:45:40</td>\n",
              "      <td>1</td>\n",
              "      <td>106.99</td>\n",
              "      <td>211</td>\n",
              "      <td>3</td>\n",
              "    </tr>\n",
              "  </tbody>\n",
              "</table>\n",
              "</div>"
            ],
            "text/plain": [
              "                   id_unico_cliente                        id_cliente  \\\n",
              "0  861eff4711a542e4b93843c6dd7febb0  06b8999e2fba1a1fbc88172c00ba8bc7   \n",
              "1  9eae34bbd3a474ec5d07949ca7de67c0  8912fc0c3bbf1e2fbf35819e21706718   \n",
              "2  9eae34bbd3a474ec5d07949ca7de67c0  8912fc0c3bbf1e2fbf35819e21706718   \n",
              "3  3c799d181c34d51f6d44bbbc563024db  f0ac8e5a239118859b1734e1087cbb1f   \n",
              "4  23397e992b09769faf5e66f9e171a241  6bc8d08963a135220ed6c6d098831f84   \n",
              "\n",
              "        horario_pedido  item_id   preco  Recencia  RecenciaCluster  \n",
              "0  2017-05-16 15:05:35        1  124.99       474                2  \n",
              "1  2017-11-09 00:50:13        1  112.99       298                0  \n",
              "2  2017-11-09 00:50:13        2  112.99       298                0  \n",
              "3  2017-05-07 20:11:26        1  124.99       483                2  \n",
              "4  2018-02-03 19:45:40        1  106.99       211                3  "
            ]
          },
          "execution_count": 33,
          "metadata": {},
          "output_type": "execute_result"
        }
      ]
    },
    {
      "cell_type": "code",
      "metadata": {
        "id": "5379e6f0",
        "outputId": "cd948dbc-7113-4dc1-e6d9-4f8797329879"
      },
      "source": [
        "agrupado_cluster = df_usuario.groupby('RecenciaCluster')['Recencia'].mean().reset_index()\n",
        "agrupado_cluster.head()"
      ],
      "id": "5379e6f0",
      "execution_count": null,
      "outputs": [
        {
          "data": {
            "text/html": [
              "<div>\n",
              "<style scoped>\n",
              "    .dataframe tbody tr th:only-of-type {\n",
              "        vertical-align: middle;\n",
              "    }\n",
              "\n",
              "    .dataframe tbody tr th {\n",
              "        vertical-align: top;\n",
              "    }\n",
              "\n",
              "    .dataframe thead th {\n",
              "        text-align: right;\n",
              "    }\n",
              "</style>\n",
              "<table border=\"1\" class=\"dataframe\">\n",
              "  <thead>\n",
              "    <tr style=\"text-align: right;\">\n",
              "      <th></th>\n",
              "      <th>RecenciaCluster</th>\n",
              "      <th>Recencia</th>\n",
              "    </tr>\n",
              "  </thead>\n",
              "  <tbody>\n",
              "    <tr>\n",
              "      <th>0</th>\n",
              "      <td>0</td>\n",
              "      <td>319.404298</td>\n",
              "    </tr>\n",
              "    <tr>\n",
              "      <th>1</th>\n",
              "      <td>1</td>\n",
              "      <td>66.790878</td>\n",
              "    </tr>\n",
              "    <tr>\n",
              "      <th>2</th>\n",
              "      <td>2</td>\n",
              "      <td>489.787907</td>\n",
              "    </tr>\n",
              "    <tr>\n",
              "      <th>3</th>\n",
              "      <td>3</td>\n",
              "      <td>187.656789</td>\n",
              "    </tr>\n",
              "  </tbody>\n",
              "</table>\n",
              "</div>"
            ],
            "text/plain": [
              "   RecenciaCluster    Recencia\n",
              "0                0  319.404298\n",
              "1                1   66.790878\n",
              "2                2  489.787907\n",
              "3                3  187.656789"
            ]
          },
          "execution_count": 34,
          "metadata": {},
          "output_type": "execute_result"
        }
      ]
    },
    {
      "cell_type": "code",
      "metadata": {
        "id": "18088bff"
      },
      "source": [
        "agrupado_cluster_ordenado = agrupado_cluster.sort_values(by='Recencia',ascending=True).reset_index(drop=True)"
      ],
      "id": "18088bff",
      "execution_count": null,
      "outputs": []
    },
    {
      "cell_type": "code",
      "metadata": {
        "id": "faab9c43",
        "outputId": "92c3c951-8cec-4b81-918d-cde99f610f7e"
      },
      "source": [
        "agrupado_cluster_ordenado.head()"
      ],
      "id": "faab9c43",
      "execution_count": null,
      "outputs": [
        {
          "data": {
            "text/html": [
              "<div>\n",
              "<style scoped>\n",
              "    .dataframe tbody tr th:only-of-type {\n",
              "        vertical-align: middle;\n",
              "    }\n",
              "\n",
              "    .dataframe tbody tr th {\n",
              "        vertical-align: top;\n",
              "    }\n",
              "\n",
              "    .dataframe thead th {\n",
              "        text-align: right;\n",
              "    }\n",
              "</style>\n",
              "<table border=\"1\" class=\"dataframe\">\n",
              "  <thead>\n",
              "    <tr style=\"text-align: right;\">\n",
              "      <th></th>\n",
              "      <th>RecenciaCluster</th>\n",
              "      <th>Recencia</th>\n",
              "    </tr>\n",
              "  </thead>\n",
              "  <tbody>\n",
              "    <tr>\n",
              "      <th>0</th>\n",
              "      <td>1</td>\n",
              "      <td>66.790878</td>\n",
              "    </tr>\n",
              "    <tr>\n",
              "      <th>1</th>\n",
              "      <td>3</td>\n",
              "      <td>187.656789</td>\n",
              "    </tr>\n",
              "    <tr>\n",
              "      <th>2</th>\n",
              "      <td>0</td>\n",
              "      <td>319.404298</td>\n",
              "    </tr>\n",
              "    <tr>\n",
              "      <th>3</th>\n",
              "      <td>2</td>\n",
              "      <td>489.787907</td>\n",
              "    </tr>\n",
              "  </tbody>\n",
              "</table>\n",
              "</div>"
            ],
            "text/plain": [
              "   RecenciaCluster    Recencia\n",
              "0                1   66.790878\n",
              "1                3  187.656789\n",
              "2                0  319.404298\n",
              "3                2  489.787907"
            ]
          },
          "execution_count": 36,
          "metadata": {},
          "output_type": "execute_result"
        }
      ]
    },
    {
      "cell_type": "code",
      "metadata": {
        "id": "1535c6e7",
        "outputId": "79c2de1f-add5-4a29-9b3c-870412bfba9f"
      },
      "source": [
        "agrupado_cluster_ordenado['index'] = agrupado_cluster_ordenado.index\n",
        "agrupado_cluster_ordenado.head()\n"
      ],
      "id": "1535c6e7",
      "execution_count": null,
      "outputs": [
        {
          "data": {
            "text/html": [
              "<div>\n",
              "<style scoped>\n",
              "    .dataframe tbody tr th:only-of-type {\n",
              "        vertical-align: middle;\n",
              "    }\n",
              "\n",
              "    .dataframe tbody tr th {\n",
              "        vertical-align: top;\n",
              "    }\n",
              "\n",
              "    .dataframe thead th {\n",
              "        text-align: right;\n",
              "    }\n",
              "</style>\n",
              "<table border=\"1\" class=\"dataframe\">\n",
              "  <thead>\n",
              "    <tr style=\"text-align: right;\">\n",
              "      <th></th>\n",
              "      <th>RecenciaCluster</th>\n",
              "      <th>Recencia</th>\n",
              "      <th>index</th>\n",
              "    </tr>\n",
              "  </thead>\n",
              "  <tbody>\n",
              "    <tr>\n",
              "      <th>0</th>\n",
              "      <td>1</td>\n",
              "      <td>66.790878</td>\n",
              "      <td>0</td>\n",
              "    </tr>\n",
              "    <tr>\n",
              "      <th>1</th>\n",
              "      <td>3</td>\n",
              "      <td>187.656789</td>\n",
              "      <td>1</td>\n",
              "    </tr>\n",
              "    <tr>\n",
              "      <th>2</th>\n",
              "      <td>0</td>\n",
              "      <td>319.404298</td>\n",
              "      <td>2</td>\n",
              "    </tr>\n",
              "    <tr>\n",
              "      <th>3</th>\n",
              "      <td>2</td>\n",
              "      <td>489.787907</td>\n",
              "      <td>3</td>\n",
              "    </tr>\n",
              "  </tbody>\n",
              "</table>\n",
              "</div>"
            ],
            "text/plain": [
              "   RecenciaCluster    Recencia  index\n",
              "0                1   66.790878      0\n",
              "1                3  187.656789      1\n",
              "2                0  319.404298      2\n",
              "3                2  489.787907      3"
            ]
          },
          "execution_count": 37,
          "metadata": {},
          "output_type": "execute_result"
        }
      ]
    },
    {
      "cell_type": "code",
      "metadata": {
        "id": "46343a21",
        "outputId": "b63d51a7-b79b-4821-d6dc-022740c2ccc9"
      },
      "source": [
        "juntando_cluster = pd.merge(df_usuario, agrupado_cluster_ordenado[['RecenciaCluster', 'index']], on='RecenciaCluster')\n",
        "juntando_cluster.head()"
      ],
      "id": "46343a21",
      "execution_count": null,
      "outputs": [
        {
          "data": {
            "text/html": [
              "<div>\n",
              "<style scoped>\n",
              "    .dataframe tbody tr th:only-of-type {\n",
              "        vertical-align: middle;\n",
              "    }\n",
              "\n",
              "    .dataframe tbody tr th {\n",
              "        vertical-align: top;\n",
              "    }\n",
              "\n",
              "    .dataframe thead th {\n",
              "        text-align: right;\n",
              "    }\n",
              "</style>\n",
              "<table border=\"1\" class=\"dataframe\">\n",
              "  <thead>\n",
              "    <tr style=\"text-align: right;\">\n",
              "      <th></th>\n",
              "      <th>id_unico_cliente</th>\n",
              "      <th>id_cliente</th>\n",
              "      <th>horario_pedido</th>\n",
              "      <th>item_id</th>\n",
              "      <th>preco</th>\n",
              "      <th>Recencia</th>\n",
              "      <th>RecenciaCluster</th>\n",
              "      <th>index</th>\n",
              "    </tr>\n",
              "  </thead>\n",
              "  <tbody>\n",
              "    <tr>\n",
              "      <th>0</th>\n",
              "      <td>861eff4711a542e4b93843c6dd7febb0</td>\n",
              "      <td>06b8999e2fba1a1fbc88172c00ba8bc7</td>\n",
              "      <td>2017-05-16 15:05:35</td>\n",
              "      <td>1</td>\n",
              "      <td>124.99</td>\n",
              "      <td>474</td>\n",
              "      <td>2</td>\n",
              "      <td>3</td>\n",
              "    </tr>\n",
              "    <tr>\n",
              "      <th>1</th>\n",
              "      <td>3c799d181c34d51f6d44bbbc563024db</td>\n",
              "      <td>f0ac8e5a239118859b1734e1087cbb1f</td>\n",
              "      <td>2017-05-07 20:11:26</td>\n",
              "      <td>1</td>\n",
              "      <td>124.99</td>\n",
              "      <td>483</td>\n",
              "      <td>2</td>\n",
              "      <td>3</td>\n",
              "    </tr>\n",
              "    <tr>\n",
              "      <th>2</th>\n",
              "      <td>567ab47ca4deb92d46dbf54dce07d0a7</td>\n",
              "      <td>fd3a0b1bd209f0e7d420c9c3d1127613</td>\n",
              "      <td>2017-03-23 15:10:17</td>\n",
              "      <td>1</td>\n",
              "      <td>126.99</td>\n",
              "      <td>528</td>\n",
              "      <td>2</td>\n",
              "      <td>3</td>\n",
              "    </tr>\n",
              "    <tr>\n",
              "      <th>3</th>\n",
              "      <td>f40ab89b622248b7ca125af4b486b887</td>\n",
              "      <td>fbd40c083aa8cddebb5265b2ba6aaf2e</td>\n",
              "      <td>2017-05-16 10:00:49</td>\n",
              "      <td>1</td>\n",
              "      <td>124.99</td>\n",
              "      <td>474</td>\n",
              "      <td>2</td>\n",
              "      <td>3</td>\n",
              "    </tr>\n",
              "    <tr>\n",
              "      <th>4</th>\n",
              "      <td>749943913a9851a39c9baf51877fbab6</td>\n",
              "      <td>10558ef4afea173bfb5e2cbe3d5b0bb5</td>\n",
              "      <td>2017-03-18 23:04:36</td>\n",
              "      <td>1</td>\n",
              "      <td>126.99</td>\n",
              "      <td>533</td>\n",
              "      <td>2</td>\n",
              "      <td>3</td>\n",
              "    </tr>\n",
              "  </tbody>\n",
              "</table>\n",
              "</div>"
            ],
            "text/plain": [
              "                   id_unico_cliente                        id_cliente  \\\n",
              "0  861eff4711a542e4b93843c6dd7febb0  06b8999e2fba1a1fbc88172c00ba8bc7   \n",
              "1  3c799d181c34d51f6d44bbbc563024db  f0ac8e5a239118859b1734e1087cbb1f   \n",
              "2  567ab47ca4deb92d46dbf54dce07d0a7  fd3a0b1bd209f0e7d420c9c3d1127613   \n",
              "3  f40ab89b622248b7ca125af4b486b887  fbd40c083aa8cddebb5265b2ba6aaf2e   \n",
              "4  749943913a9851a39c9baf51877fbab6  10558ef4afea173bfb5e2cbe3d5b0bb5   \n",
              "\n",
              "        horario_pedido  item_id   preco  Recencia  RecenciaCluster  index  \n",
              "0  2017-05-16 15:05:35        1  124.99       474                2      3  \n",
              "1  2017-05-07 20:11:26        1  124.99       483                2      3  \n",
              "2  2017-03-23 15:10:17        1  126.99       528                2      3  \n",
              "3  2017-05-16 10:00:49        1  124.99       474                2      3  \n",
              "4  2017-03-18 23:04:36        1  126.99       533                2      3  "
            ]
          },
          "execution_count": 38,
          "metadata": {},
          "output_type": "execute_result"
        }
      ]
    },
    {
      "cell_type": "code",
      "metadata": {
        "id": "2392029c",
        "outputId": "b63ae6c9-d737-4e85-b36d-494b67cd2e0d"
      },
      "source": [
        "removendo_dados = juntando_cluster.drop(['RecenciaCluster'],axis=1)\n",
        "removendo_dados.head()"
      ],
      "id": "2392029c",
      "execution_count": null,
      "outputs": [
        {
          "data": {
            "text/html": [
              "<div>\n",
              "<style scoped>\n",
              "    .dataframe tbody tr th:only-of-type {\n",
              "        vertical-align: middle;\n",
              "    }\n",
              "\n",
              "    .dataframe tbody tr th {\n",
              "        vertical-align: top;\n",
              "    }\n",
              "\n",
              "    .dataframe thead th {\n",
              "        text-align: right;\n",
              "    }\n",
              "</style>\n",
              "<table border=\"1\" class=\"dataframe\">\n",
              "  <thead>\n",
              "    <tr style=\"text-align: right;\">\n",
              "      <th></th>\n",
              "      <th>id_unico_cliente</th>\n",
              "      <th>id_cliente</th>\n",
              "      <th>horario_pedido</th>\n",
              "      <th>item_id</th>\n",
              "      <th>preco</th>\n",
              "      <th>Recencia</th>\n",
              "      <th>index</th>\n",
              "    </tr>\n",
              "  </thead>\n",
              "  <tbody>\n",
              "    <tr>\n",
              "      <th>0</th>\n",
              "      <td>861eff4711a542e4b93843c6dd7febb0</td>\n",
              "      <td>06b8999e2fba1a1fbc88172c00ba8bc7</td>\n",
              "      <td>2017-05-16 15:05:35</td>\n",
              "      <td>1</td>\n",
              "      <td>124.99</td>\n",
              "      <td>474</td>\n",
              "      <td>3</td>\n",
              "    </tr>\n",
              "    <tr>\n",
              "      <th>1</th>\n",
              "      <td>3c799d181c34d51f6d44bbbc563024db</td>\n",
              "      <td>f0ac8e5a239118859b1734e1087cbb1f</td>\n",
              "      <td>2017-05-07 20:11:26</td>\n",
              "      <td>1</td>\n",
              "      <td>124.99</td>\n",
              "      <td>483</td>\n",
              "      <td>3</td>\n",
              "    </tr>\n",
              "    <tr>\n",
              "      <th>2</th>\n",
              "      <td>567ab47ca4deb92d46dbf54dce07d0a7</td>\n",
              "      <td>fd3a0b1bd209f0e7d420c9c3d1127613</td>\n",
              "      <td>2017-03-23 15:10:17</td>\n",
              "      <td>1</td>\n",
              "      <td>126.99</td>\n",
              "      <td>528</td>\n",
              "      <td>3</td>\n",
              "    </tr>\n",
              "    <tr>\n",
              "      <th>3</th>\n",
              "      <td>f40ab89b622248b7ca125af4b486b887</td>\n",
              "      <td>fbd40c083aa8cddebb5265b2ba6aaf2e</td>\n",
              "      <td>2017-05-16 10:00:49</td>\n",
              "      <td>1</td>\n",
              "      <td>124.99</td>\n",
              "      <td>474</td>\n",
              "      <td>3</td>\n",
              "    </tr>\n",
              "    <tr>\n",
              "      <th>4</th>\n",
              "      <td>749943913a9851a39c9baf51877fbab6</td>\n",
              "      <td>10558ef4afea173bfb5e2cbe3d5b0bb5</td>\n",
              "      <td>2017-03-18 23:04:36</td>\n",
              "      <td>1</td>\n",
              "      <td>126.99</td>\n",
              "      <td>533</td>\n",
              "      <td>3</td>\n",
              "    </tr>\n",
              "  </tbody>\n",
              "</table>\n",
              "</div>"
            ],
            "text/plain": [
              "                   id_unico_cliente                        id_cliente  \\\n",
              "0  861eff4711a542e4b93843c6dd7febb0  06b8999e2fba1a1fbc88172c00ba8bc7   \n",
              "1  3c799d181c34d51f6d44bbbc563024db  f0ac8e5a239118859b1734e1087cbb1f   \n",
              "2  567ab47ca4deb92d46dbf54dce07d0a7  fd3a0b1bd209f0e7d420c9c3d1127613   \n",
              "3  f40ab89b622248b7ca125af4b486b887  fbd40c083aa8cddebb5265b2ba6aaf2e   \n",
              "4  749943913a9851a39c9baf51877fbab6  10558ef4afea173bfb5e2cbe3d5b0bb5   \n",
              "\n",
              "        horario_pedido  item_id   preco  Recencia  index  \n",
              "0  2017-05-16 15:05:35        1  124.99       474      3  \n",
              "1  2017-05-07 20:11:26        1  124.99       483      3  \n",
              "2  2017-03-23 15:10:17        1  126.99       528      3  \n",
              "3  2017-05-16 10:00:49        1  124.99       474      3  \n",
              "4  2017-03-18 23:04:36        1  126.99       533      3  "
            ]
          },
          "execution_count": 39,
          "metadata": {},
          "output_type": "execute_result"
        }
      ]
    },
    {
      "cell_type": "code",
      "metadata": {
        "id": "84d0edfd",
        "outputId": "acb328cb-af1c-414a-c8f2-3e8eb2acf314"
      },
      "source": [
        "df_final = removendo_dados.rename(columns={'index':'RecenciaCluster'})\n",
        "df_final.head()"
      ],
      "id": "84d0edfd",
      "execution_count": null,
      "outputs": [
        {
          "data": {
            "text/html": [
              "<div>\n",
              "<style scoped>\n",
              "    .dataframe tbody tr th:only-of-type {\n",
              "        vertical-align: middle;\n",
              "    }\n",
              "\n",
              "    .dataframe tbody tr th {\n",
              "        vertical-align: top;\n",
              "    }\n",
              "\n",
              "    .dataframe thead th {\n",
              "        text-align: right;\n",
              "    }\n",
              "</style>\n",
              "<table border=\"1\" class=\"dataframe\">\n",
              "  <thead>\n",
              "    <tr style=\"text-align: right;\">\n",
              "      <th></th>\n",
              "      <th>id_unico_cliente</th>\n",
              "      <th>id_cliente</th>\n",
              "      <th>horario_pedido</th>\n",
              "      <th>item_id</th>\n",
              "      <th>preco</th>\n",
              "      <th>Recencia</th>\n",
              "      <th>RecenciaCluster</th>\n",
              "    </tr>\n",
              "  </thead>\n",
              "  <tbody>\n",
              "    <tr>\n",
              "      <th>0</th>\n",
              "      <td>861eff4711a542e4b93843c6dd7febb0</td>\n",
              "      <td>06b8999e2fba1a1fbc88172c00ba8bc7</td>\n",
              "      <td>2017-05-16 15:05:35</td>\n",
              "      <td>1</td>\n",
              "      <td>124.99</td>\n",
              "      <td>474</td>\n",
              "      <td>3</td>\n",
              "    </tr>\n",
              "    <tr>\n",
              "      <th>1</th>\n",
              "      <td>3c799d181c34d51f6d44bbbc563024db</td>\n",
              "      <td>f0ac8e5a239118859b1734e1087cbb1f</td>\n",
              "      <td>2017-05-07 20:11:26</td>\n",
              "      <td>1</td>\n",
              "      <td>124.99</td>\n",
              "      <td>483</td>\n",
              "      <td>3</td>\n",
              "    </tr>\n",
              "    <tr>\n",
              "      <th>2</th>\n",
              "      <td>567ab47ca4deb92d46dbf54dce07d0a7</td>\n",
              "      <td>fd3a0b1bd209f0e7d420c9c3d1127613</td>\n",
              "      <td>2017-03-23 15:10:17</td>\n",
              "      <td>1</td>\n",
              "      <td>126.99</td>\n",
              "      <td>528</td>\n",
              "      <td>3</td>\n",
              "    </tr>\n",
              "    <tr>\n",
              "      <th>3</th>\n",
              "      <td>f40ab89b622248b7ca125af4b486b887</td>\n",
              "      <td>fbd40c083aa8cddebb5265b2ba6aaf2e</td>\n",
              "      <td>2017-05-16 10:00:49</td>\n",
              "      <td>1</td>\n",
              "      <td>124.99</td>\n",
              "      <td>474</td>\n",
              "      <td>3</td>\n",
              "    </tr>\n",
              "    <tr>\n",
              "      <th>4</th>\n",
              "      <td>749943913a9851a39c9baf51877fbab6</td>\n",
              "      <td>10558ef4afea173bfb5e2cbe3d5b0bb5</td>\n",
              "      <td>2017-03-18 23:04:36</td>\n",
              "      <td>1</td>\n",
              "      <td>126.99</td>\n",
              "      <td>533</td>\n",
              "      <td>3</td>\n",
              "    </tr>\n",
              "  </tbody>\n",
              "</table>\n",
              "</div>"
            ],
            "text/plain": [
              "                   id_unico_cliente                        id_cliente  \\\n",
              "0  861eff4711a542e4b93843c6dd7febb0  06b8999e2fba1a1fbc88172c00ba8bc7   \n",
              "1  3c799d181c34d51f6d44bbbc563024db  f0ac8e5a239118859b1734e1087cbb1f   \n",
              "2  567ab47ca4deb92d46dbf54dce07d0a7  fd3a0b1bd209f0e7d420c9c3d1127613   \n",
              "3  f40ab89b622248b7ca125af4b486b887  fbd40c083aa8cddebb5265b2ba6aaf2e   \n",
              "4  749943913a9851a39c9baf51877fbab6  10558ef4afea173bfb5e2cbe3d5b0bb5   \n",
              "\n",
              "        horario_pedido  item_id   preco  Recencia  RecenciaCluster  \n",
              "0  2017-05-16 15:05:35        1  124.99       474                3  \n",
              "1  2017-05-07 20:11:26        1  124.99       483                3  \n",
              "2  2017-03-23 15:10:17        1  126.99       528                3  \n",
              "3  2017-05-16 10:00:49        1  124.99       474                3  \n",
              "4  2017-03-18 23:04:36        1  126.99       533                3  "
            ]
          },
          "execution_count": 40,
          "metadata": {},
          "output_type": "execute_result"
        }
      ]
    },
    {
      "cell_type": "markdown",
      "metadata": {
        "id": "58f84b20"
      },
      "source": [
        "### Função de ordenaçao: \n",
        "##### NAO ESQUECER DE MUDAR O PARAMETRO 'ASCENDING' PARA FALSE QUANDO FOR USAR COM FREQUENCIA E RECEITA!!"
      ],
      "id": "58f84b20"
    },
    {
      "cell_type": "code",
      "metadata": {
        "id": "d1bc1103"
      },
      "source": [
        "def ordenador_cluster(cluster_nome,target_nome,df,ascending):\n",
        "    agrupado_cluster = df.groupby(cluster_nome)[target_nome].mean().reset_index()\n",
        "    agrupado_cluster_ordenado = agrupado_cluster.sort_values(by=target_nome,ascending=ascending).reset_index(drop=True)\n",
        "    agrupado_cluster_ordenado['index'] = agrupado_cluster_ordenado.index\n",
        "    juntando_cluster = pd.merge(df, agrupado_cluster_ordenado[[cluster_nome, 'index']], on=cluster_nome)\n",
        "    removendo_dados = juntando_cluster.drop([cluster_nome],axis=1)\n",
        "    df_final = removendo_dados.rename(columns={'index':cluster_nome})\n",
        "    return df_final\n",
        "    "
      ],
      "id": "d1bc1103",
      "execution_count": null,
      "outputs": []
    },
    {
      "cell_type": "code",
      "metadata": {
        "id": "e475520c"
      },
      "source": [
        "df_usuario = ordenador_cluster('RecenciaCluster', 'Recencia', df_usuario,True)"
      ],
      "id": "e475520c",
      "execution_count": null,
      "outputs": []
    },
    {
      "cell_type": "code",
      "metadata": {
        "scrolled": true,
        "id": "f4b7f752",
        "outputId": "b2347cf5-835a-4405-85ac-aad6b21406d3"
      },
      "source": [
        "df_usuario.head()"
      ],
      "id": "f4b7f752",
      "execution_count": null,
      "outputs": [
        {
          "data": {
            "text/html": [
              "<div>\n",
              "<style scoped>\n",
              "    .dataframe tbody tr th:only-of-type {\n",
              "        vertical-align: middle;\n",
              "    }\n",
              "\n",
              "    .dataframe tbody tr th {\n",
              "        vertical-align: top;\n",
              "    }\n",
              "\n",
              "    .dataframe thead th {\n",
              "        text-align: right;\n",
              "    }\n",
              "</style>\n",
              "<table border=\"1\" class=\"dataframe\">\n",
              "  <thead>\n",
              "    <tr style=\"text-align: right;\">\n",
              "      <th></th>\n",
              "      <th>id_unico_cliente</th>\n",
              "      <th>id_cliente</th>\n",
              "      <th>horario_pedido</th>\n",
              "      <th>item_id</th>\n",
              "      <th>preco</th>\n",
              "      <th>Recencia</th>\n",
              "      <th>RecenciaCluster</th>\n",
              "    </tr>\n",
              "  </thead>\n",
              "  <tbody>\n",
              "    <tr>\n",
              "      <th>0</th>\n",
              "      <td>861eff4711a542e4b93843c6dd7febb0</td>\n",
              "      <td>06b8999e2fba1a1fbc88172c00ba8bc7</td>\n",
              "      <td>2017-05-16 15:05:35</td>\n",
              "      <td>1</td>\n",
              "      <td>124.99</td>\n",
              "      <td>474</td>\n",
              "      <td>3</td>\n",
              "    </tr>\n",
              "    <tr>\n",
              "      <th>1</th>\n",
              "      <td>3c799d181c34d51f6d44bbbc563024db</td>\n",
              "      <td>f0ac8e5a239118859b1734e1087cbb1f</td>\n",
              "      <td>2017-05-07 20:11:26</td>\n",
              "      <td>1</td>\n",
              "      <td>124.99</td>\n",
              "      <td>483</td>\n",
              "      <td>3</td>\n",
              "    </tr>\n",
              "    <tr>\n",
              "      <th>2</th>\n",
              "      <td>567ab47ca4deb92d46dbf54dce07d0a7</td>\n",
              "      <td>fd3a0b1bd209f0e7d420c9c3d1127613</td>\n",
              "      <td>2017-03-23 15:10:17</td>\n",
              "      <td>1</td>\n",
              "      <td>126.99</td>\n",
              "      <td>528</td>\n",
              "      <td>3</td>\n",
              "    </tr>\n",
              "    <tr>\n",
              "      <th>3</th>\n",
              "      <td>f40ab89b622248b7ca125af4b486b887</td>\n",
              "      <td>fbd40c083aa8cddebb5265b2ba6aaf2e</td>\n",
              "      <td>2017-05-16 10:00:49</td>\n",
              "      <td>1</td>\n",
              "      <td>124.99</td>\n",
              "      <td>474</td>\n",
              "      <td>3</td>\n",
              "    </tr>\n",
              "    <tr>\n",
              "      <th>4</th>\n",
              "      <td>749943913a9851a39c9baf51877fbab6</td>\n",
              "      <td>10558ef4afea173bfb5e2cbe3d5b0bb5</td>\n",
              "      <td>2017-03-18 23:04:36</td>\n",
              "      <td>1</td>\n",
              "      <td>126.99</td>\n",
              "      <td>533</td>\n",
              "      <td>3</td>\n",
              "    </tr>\n",
              "  </tbody>\n",
              "</table>\n",
              "</div>"
            ],
            "text/plain": [
              "                   id_unico_cliente                        id_cliente  \\\n",
              "0  861eff4711a542e4b93843c6dd7febb0  06b8999e2fba1a1fbc88172c00ba8bc7   \n",
              "1  3c799d181c34d51f6d44bbbc563024db  f0ac8e5a239118859b1734e1087cbb1f   \n",
              "2  567ab47ca4deb92d46dbf54dce07d0a7  fd3a0b1bd209f0e7d420c9c3d1127613   \n",
              "3  f40ab89b622248b7ca125af4b486b887  fbd40c083aa8cddebb5265b2ba6aaf2e   \n",
              "4  749943913a9851a39c9baf51877fbab6  10558ef4afea173bfb5e2cbe3d5b0bb5   \n",
              "\n",
              "        horario_pedido  item_id   preco  Recencia  RecenciaCluster  \n",
              "0  2017-05-16 15:05:35        1  124.99       474                3  \n",
              "1  2017-05-07 20:11:26        1  124.99       483                3  \n",
              "2  2017-03-23 15:10:17        1  126.99       528                3  \n",
              "3  2017-05-16 10:00:49        1  124.99       474                3  \n",
              "4  2017-03-18 23:04:36        1  126.99       533                3  "
            ]
          },
          "execution_count": 43,
          "metadata": {},
          "output_type": "execute_result"
        }
      ]
    },
    {
      "cell_type": "code",
      "metadata": {
        "id": "79b402ea",
        "outputId": "3166fec5-ef22-4014-f086-96962047872f"
      },
      "source": [
        "df_usuario.groupby('RecenciaCluster')['Recencia'].describe()"
      ],
      "id": "79b402ea",
      "execution_count": null,
      "outputs": [
        {
          "data": {
            "text/html": [
              "<div>\n",
              "<style scoped>\n",
              "    .dataframe tbody tr th:only-of-type {\n",
              "        vertical-align: middle;\n",
              "    }\n",
              "\n",
              "    .dataframe tbody tr th {\n",
              "        vertical-align: top;\n",
              "    }\n",
              "\n",
              "    .dataframe thead th {\n",
              "        text-align: right;\n",
              "    }\n",
              "</style>\n",
              "<table border=\"1\" class=\"dataframe\">\n",
              "  <thead>\n",
              "    <tr style=\"text-align: right;\">\n",
              "      <th></th>\n",
              "      <th>count</th>\n",
              "      <th>mean</th>\n",
              "      <th>std</th>\n",
              "      <th>min</th>\n",
              "      <th>25%</th>\n",
              "      <th>50%</th>\n",
              "      <th>75%</th>\n",
              "      <th>max</th>\n",
              "    </tr>\n",
              "    <tr>\n",
              "      <th>RecenciaCluster</th>\n",
              "      <th></th>\n",
              "      <th></th>\n",
              "      <th></th>\n",
              "      <th></th>\n",
              "      <th></th>\n",
              "      <th></th>\n",
              "      <th></th>\n",
              "      <th></th>\n",
              "    </tr>\n",
              "  </thead>\n",
              "  <tbody>\n",
              "    <tr>\n",
              "      <th>0</th>\n",
              "      <td>31790.0</td>\n",
              "      <td>66.790878</td>\n",
              "      <td>36.009443</td>\n",
              "      <td>0.0</td>\n",
              "      <td>33.0</td>\n",
              "      <td>67.0</td>\n",
              "      <td>100.0</td>\n",
              "      <td>127.0</td>\n",
              "    </tr>\n",
              "    <tr>\n",
              "      <th>1</th>\n",
              "      <td>33510.0</td>\n",
              "      <td>187.656789</td>\n",
              "      <td>34.961732</td>\n",
              "      <td>128.0</td>\n",
              "      <td>158.0</td>\n",
              "      <td>187.0</td>\n",
              "      <td>218.0</td>\n",
              "      <td>253.0</td>\n",
              "    </tr>\n",
              "    <tr>\n",
              "      <th>2</th>\n",
              "      <td>30757.0</td>\n",
              "      <td>319.404298</td>\n",
              "      <td>43.691600</td>\n",
              "      <td>254.0</td>\n",
              "      <td>281.0</td>\n",
              "      <td>313.0</td>\n",
              "      <td>356.0</td>\n",
              "      <td>404.0</td>\n",
              "    </tr>\n",
              "    <tr>\n",
              "      <th>3</th>\n",
              "      <td>20524.0</td>\n",
              "      <td>489.787907</td>\n",
              "      <td>59.600038</td>\n",
              "      <td>405.0</td>\n",
              "      <td>443.0</td>\n",
              "      <td>481.0</td>\n",
              "      <td>532.0</td>\n",
              "      <td>728.0</td>\n",
              "    </tr>\n",
              "  </tbody>\n",
              "</table>\n",
              "</div>"
            ],
            "text/plain": [
              "                   count        mean        std    min    25%    50%    75%  \\\n",
              "RecenciaCluster                                                               \n",
              "0                31790.0   66.790878  36.009443    0.0   33.0   67.0  100.0   \n",
              "1                33510.0  187.656789  34.961732  128.0  158.0  187.0  218.0   \n",
              "2                30757.0  319.404298  43.691600  254.0  281.0  313.0  356.0   \n",
              "3                20524.0  489.787907  59.600038  405.0  443.0  481.0  532.0   \n",
              "\n",
              "                   max  \n",
              "RecenciaCluster         \n",
              "0                127.0  \n",
              "1                253.0  \n",
              "2                404.0  \n",
              "3                728.0  "
            ]
          },
          "execution_count": 44,
          "metadata": {},
          "output_type": "execute_result"
        }
      ]
    },
    {
      "cell_type": "markdown",
      "metadata": {
        "id": "26194dd0"
      },
      "source": [
        "### Clusterizando FREQUENCIA"
      ],
      "id": "26194dd0"
    },
    {
      "cell_type": "code",
      "metadata": {
        "id": "df5f0d04",
        "outputId": "5bb2ef79-956c-4af7-8034-d39ba9e5d4f9"
      },
      "source": [
        "df_frequencia = df.groupby('id_unico_cliente').pedido_aprovado.count().reset_index()\n",
        "df_frequencia.columns = ['id_unico_cliente', 'Frequencia']\n",
        "df_frequencia.head()"
      ],
      "id": "df5f0d04",
      "execution_count": null,
      "outputs": [
        {
          "data": {
            "text/html": [
              "<div>\n",
              "<style scoped>\n",
              "    .dataframe tbody tr th:only-of-type {\n",
              "        vertical-align: middle;\n",
              "    }\n",
              "\n",
              "    .dataframe tbody tr th {\n",
              "        vertical-align: top;\n",
              "    }\n",
              "\n",
              "    .dataframe thead th {\n",
              "        text-align: right;\n",
              "    }\n",
              "</style>\n",
              "<table border=\"1\" class=\"dataframe\">\n",
              "  <thead>\n",
              "    <tr style=\"text-align: right;\">\n",
              "      <th></th>\n",
              "      <th>id_unico_cliente</th>\n",
              "      <th>Frequencia</th>\n",
              "    </tr>\n",
              "  </thead>\n",
              "  <tbody>\n",
              "    <tr>\n",
              "      <th>0</th>\n",
              "      <td>0000366f3b9a7992bf8c76cfdf3221e2</td>\n",
              "      <td>1</td>\n",
              "    </tr>\n",
              "    <tr>\n",
              "      <th>1</th>\n",
              "      <td>0000b849f77a49e4a4ce2b2a4ca5be3f</td>\n",
              "      <td>1</td>\n",
              "    </tr>\n",
              "    <tr>\n",
              "      <th>2</th>\n",
              "      <td>0000f46a3911fa3c0805444483337064</td>\n",
              "      <td>1</td>\n",
              "    </tr>\n",
              "    <tr>\n",
              "      <th>3</th>\n",
              "      <td>0000f6ccb0745a6a4b88665a16c9f078</td>\n",
              "      <td>1</td>\n",
              "    </tr>\n",
              "    <tr>\n",
              "      <th>4</th>\n",
              "      <td>0004aac84e0df4da2b147fca70cf8255</td>\n",
              "      <td>1</td>\n",
              "    </tr>\n",
              "  </tbody>\n",
              "</table>\n",
              "</div>"
            ],
            "text/plain": [
              "                   id_unico_cliente  Frequencia\n",
              "0  0000366f3b9a7992bf8c76cfdf3221e2           1\n",
              "1  0000b849f77a49e4a4ce2b2a4ca5be3f           1\n",
              "2  0000f46a3911fa3c0805444483337064           1\n",
              "3  0000f6ccb0745a6a4b88665a16c9f078           1\n",
              "4  0004aac84e0df4da2b147fca70cf8255           1"
            ]
          },
          "execution_count": 45,
          "metadata": {},
          "output_type": "execute_result"
        }
      ]
    },
    {
      "cell_type": "code",
      "metadata": {
        "id": "5ad282f9",
        "outputId": "f4ab9f48-c675-40f2-e3f8-82a93c488894"
      },
      "source": [
        "df_usuario = pd.merge(df_usuario, df_frequencia, on='id_unico_cliente')\n",
        "df_usuario.head()"
      ],
      "id": "5ad282f9",
      "execution_count": null,
      "outputs": [
        {
          "data": {
            "text/html": [
              "<div>\n",
              "<style scoped>\n",
              "    .dataframe tbody tr th:only-of-type {\n",
              "        vertical-align: middle;\n",
              "    }\n",
              "\n",
              "    .dataframe tbody tr th {\n",
              "        vertical-align: top;\n",
              "    }\n",
              "\n",
              "    .dataframe thead th {\n",
              "        text-align: right;\n",
              "    }\n",
              "</style>\n",
              "<table border=\"1\" class=\"dataframe\">\n",
              "  <thead>\n",
              "    <tr style=\"text-align: right;\">\n",
              "      <th></th>\n",
              "      <th>id_unico_cliente</th>\n",
              "      <th>id_cliente</th>\n",
              "      <th>horario_pedido</th>\n",
              "      <th>item_id</th>\n",
              "      <th>preco</th>\n",
              "      <th>Recencia</th>\n",
              "      <th>RecenciaCluster</th>\n",
              "      <th>Frequencia</th>\n",
              "    </tr>\n",
              "  </thead>\n",
              "  <tbody>\n",
              "    <tr>\n",
              "      <th>0</th>\n",
              "      <td>861eff4711a542e4b93843c6dd7febb0</td>\n",
              "      <td>06b8999e2fba1a1fbc88172c00ba8bc7</td>\n",
              "      <td>2017-05-16 15:05:35</td>\n",
              "      <td>1</td>\n",
              "      <td>124.99</td>\n",
              "      <td>474</td>\n",
              "      <td>3</td>\n",
              "      <td>1</td>\n",
              "    </tr>\n",
              "    <tr>\n",
              "      <th>1</th>\n",
              "      <td>3c799d181c34d51f6d44bbbc563024db</td>\n",
              "      <td>f0ac8e5a239118859b1734e1087cbb1f</td>\n",
              "      <td>2017-05-07 20:11:26</td>\n",
              "      <td>1</td>\n",
              "      <td>124.99</td>\n",
              "      <td>483</td>\n",
              "      <td>3</td>\n",
              "      <td>1</td>\n",
              "    </tr>\n",
              "    <tr>\n",
              "      <th>2</th>\n",
              "      <td>567ab47ca4deb92d46dbf54dce07d0a7</td>\n",
              "      <td>fd3a0b1bd209f0e7d420c9c3d1127613</td>\n",
              "      <td>2017-03-23 15:10:17</td>\n",
              "      <td>1</td>\n",
              "      <td>126.99</td>\n",
              "      <td>528</td>\n",
              "      <td>3</td>\n",
              "      <td>1</td>\n",
              "    </tr>\n",
              "    <tr>\n",
              "      <th>3</th>\n",
              "      <td>f40ab89b622248b7ca125af4b486b887</td>\n",
              "      <td>fbd40c083aa8cddebb5265b2ba6aaf2e</td>\n",
              "      <td>2017-05-16 10:00:49</td>\n",
              "      <td>1</td>\n",
              "      <td>124.99</td>\n",
              "      <td>474</td>\n",
              "      <td>3</td>\n",
              "      <td>1</td>\n",
              "    </tr>\n",
              "    <tr>\n",
              "      <th>4</th>\n",
              "      <td>749943913a9851a39c9baf51877fbab6</td>\n",
              "      <td>10558ef4afea173bfb5e2cbe3d5b0bb5</td>\n",
              "      <td>2017-03-18 23:04:36</td>\n",
              "      <td>1</td>\n",
              "      <td>126.99</td>\n",
              "      <td>533</td>\n",
              "      <td>3</td>\n",
              "      <td>1</td>\n",
              "    </tr>\n",
              "  </tbody>\n",
              "</table>\n",
              "</div>"
            ],
            "text/plain": [
              "                   id_unico_cliente                        id_cliente  \\\n",
              "0  861eff4711a542e4b93843c6dd7febb0  06b8999e2fba1a1fbc88172c00ba8bc7   \n",
              "1  3c799d181c34d51f6d44bbbc563024db  f0ac8e5a239118859b1734e1087cbb1f   \n",
              "2  567ab47ca4deb92d46dbf54dce07d0a7  fd3a0b1bd209f0e7d420c9c3d1127613   \n",
              "3  f40ab89b622248b7ca125af4b486b887  fbd40c083aa8cddebb5265b2ba6aaf2e   \n",
              "4  749943913a9851a39c9baf51877fbab6  10558ef4afea173bfb5e2cbe3d5b0bb5   \n",
              "\n",
              "        horario_pedido  item_id   preco  Recencia  RecenciaCluster  Frequencia  \n",
              "0  2017-05-16 15:05:35        1  124.99       474                3           1  \n",
              "1  2017-05-07 20:11:26        1  124.99       483                3           1  \n",
              "2  2017-03-23 15:10:17        1  126.99       528                3           1  \n",
              "3  2017-05-16 10:00:49        1  124.99       474                3           1  \n",
              "4  2017-03-18 23:04:36        1  126.99       533                3           1  "
            ]
          },
          "execution_count": 46,
          "metadata": {},
          "output_type": "execute_result"
        }
      ]
    },
    {
      "cell_type": "code",
      "metadata": {
        "id": "5e2e8193",
        "outputId": "9ee6b301-a125-4ab9-ae10-a5be7c193797"
      },
      "source": [
        "df_frequencia = df_usuario[['Frequencia']]\n",
        "kmeans = KMeans(n_clusters=4)\n",
        "df_usuario['FrequenciaCluster'] = kmeans.fit_predict(df_frequencia)\n",
        "df_usuario.head()"
      ],
      "id": "5e2e8193",
      "execution_count": null,
      "outputs": [
        {
          "data": {
            "text/html": [
              "<div>\n",
              "<style scoped>\n",
              "    .dataframe tbody tr th:only-of-type {\n",
              "        vertical-align: middle;\n",
              "    }\n",
              "\n",
              "    .dataframe tbody tr th {\n",
              "        vertical-align: top;\n",
              "    }\n",
              "\n",
              "    .dataframe thead th {\n",
              "        text-align: right;\n",
              "    }\n",
              "</style>\n",
              "<table border=\"1\" class=\"dataframe\">\n",
              "  <thead>\n",
              "    <tr style=\"text-align: right;\">\n",
              "      <th></th>\n",
              "      <th>id_unico_cliente</th>\n",
              "      <th>id_cliente</th>\n",
              "      <th>horario_pedido</th>\n",
              "      <th>item_id</th>\n",
              "      <th>preco</th>\n",
              "      <th>Recencia</th>\n",
              "      <th>RecenciaCluster</th>\n",
              "      <th>Frequencia</th>\n",
              "      <th>FrequenciaCluster</th>\n",
              "    </tr>\n",
              "  </thead>\n",
              "  <tbody>\n",
              "    <tr>\n",
              "      <th>0</th>\n",
              "      <td>861eff4711a542e4b93843c6dd7febb0</td>\n",
              "      <td>06b8999e2fba1a1fbc88172c00ba8bc7</td>\n",
              "      <td>2017-05-16 15:05:35</td>\n",
              "      <td>1</td>\n",
              "      <td>124.99</td>\n",
              "      <td>474</td>\n",
              "      <td>3</td>\n",
              "      <td>1</td>\n",
              "      <td>0</td>\n",
              "    </tr>\n",
              "    <tr>\n",
              "      <th>1</th>\n",
              "      <td>3c799d181c34d51f6d44bbbc563024db</td>\n",
              "      <td>f0ac8e5a239118859b1734e1087cbb1f</td>\n",
              "      <td>2017-05-07 20:11:26</td>\n",
              "      <td>1</td>\n",
              "      <td>124.99</td>\n",
              "      <td>483</td>\n",
              "      <td>3</td>\n",
              "      <td>1</td>\n",
              "      <td>0</td>\n",
              "    </tr>\n",
              "    <tr>\n",
              "      <th>2</th>\n",
              "      <td>567ab47ca4deb92d46dbf54dce07d0a7</td>\n",
              "      <td>fd3a0b1bd209f0e7d420c9c3d1127613</td>\n",
              "      <td>2017-03-23 15:10:17</td>\n",
              "      <td>1</td>\n",
              "      <td>126.99</td>\n",
              "      <td>528</td>\n",
              "      <td>3</td>\n",
              "      <td>1</td>\n",
              "      <td>0</td>\n",
              "    </tr>\n",
              "    <tr>\n",
              "      <th>3</th>\n",
              "      <td>f40ab89b622248b7ca125af4b486b887</td>\n",
              "      <td>fbd40c083aa8cddebb5265b2ba6aaf2e</td>\n",
              "      <td>2017-05-16 10:00:49</td>\n",
              "      <td>1</td>\n",
              "      <td>124.99</td>\n",
              "      <td>474</td>\n",
              "      <td>3</td>\n",
              "      <td>1</td>\n",
              "      <td>0</td>\n",
              "    </tr>\n",
              "    <tr>\n",
              "      <th>4</th>\n",
              "      <td>749943913a9851a39c9baf51877fbab6</td>\n",
              "      <td>10558ef4afea173bfb5e2cbe3d5b0bb5</td>\n",
              "      <td>2017-03-18 23:04:36</td>\n",
              "      <td>1</td>\n",
              "      <td>126.99</td>\n",
              "      <td>533</td>\n",
              "      <td>3</td>\n",
              "      <td>1</td>\n",
              "      <td>0</td>\n",
              "    </tr>\n",
              "  </tbody>\n",
              "</table>\n",
              "</div>"
            ],
            "text/plain": [
              "                   id_unico_cliente                        id_cliente  \\\n",
              "0  861eff4711a542e4b93843c6dd7febb0  06b8999e2fba1a1fbc88172c00ba8bc7   \n",
              "1  3c799d181c34d51f6d44bbbc563024db  f0ac8e5a239118859b1734e1087cbb1f   \n",
              "2  567ab47ca4deb92d46dbf54dce07d0a7  fd3a0b1bd209f0e7d420c9c3d1127613   \n",
              "3  f40ab89b622248b7ca125af4b486b887  fbd40c083aa8cddebb5265b2ba6aaf2e   \n",
              "4  749943913a9851a39c9baf51877fbab6  10558ef4afea173bfb5e2cbe3d5b0bb5   \n",
              "\n",
              "        horario_pedido  item_id   preco  Recencia  RecenciaCluster  \\\n",
              "0  2017-05-16 15:05:35        1  124.99       474                3   \n",
              "1  2017-05-07 20:11:26        1  124.99       483                3   \n",
              "2  2017-03-23 15:10:17        1  126.99       528                3   \n",
              "3  2017-05-16 10:00:49        1  124.99       474                3   \n",
              "4  2017-03-18 23:04:36        1  126.99       533                3   \n",
              "\n",
              "   Frequencia  FrequenciaCluster  \n",
              "0           1                  0  \n",
              "1           1                  0  \n",
              "2           1                  0  \n",
              "3           1                  0  \n",
              "4           1                  0  "
            ]
          },
          "execution_count": 47,
          "metadata": {},
          "output_type": "execute_result"
        }
      ]
    },
    {
      "cell_type": "code",
      "metadata": {
        "id": "7d855054"
      },
      "source": [
        "df_usuario = ordenador_cluster('FrequenciaCluster', 'Frequencia', df_usuario,False)"
      ],
      "id": "7d855054",
      "execution_count": null,
      "outputs": []
    },
    {
      "cell_type": "code",
      "metadata": {
        "id": "5121940a",
        "outputId": "e5bde592-fa68-4276-8011-5b3d2b146661"
      },
      "source": [
        "df_usuario.groupby('FrequenciaCluster')['Frequencia'].describe()"
      ],
      "id": "5121940a",
      "execution_count": null,
      "outputs": [
        {
          "data": {
            "text/html": [
              "<div>\n",
              "<style scoped>\n",
              "    .dataframe tbody tr th:only-of-type {\n",
              "        vertical-align: middle;\n",
              "    }\n",
              "\n",
              "    .dataframe tbody tr th {\n",
              "        vertical-align: top;\n",
              "    }\n",
              "\n",
              "    .dataframe thead th {\n",
              "        text-align: right;\n",
              "    }\n",
              "</style>\n",
              "<table border=\"1\" class=\"dataframe\">\n",
              "  <thead>\n",
              "    <tr style=\"text-align: right;\">\n",
              "      <th></th>\n",
              "      <th>count</th>\n",
              "      <th>mean</th>\n",
              "      <th>std</th>\n",
              "      <th>min</th>\n",
              "      <th>25%</th>\n",
              "      <th>50%</th>\n",
              "      <th>75%</th>\n",
              "      <th>max</th>\n",
              "    </tr>\n",
              "    <tr>\n",
              "      <th>FrequenciaCluster</th>\n",
              "      <th></th>\n",
              "      <th></th>\n",
              "      <th></th>\n",
              "      <th></th>\n",
              "      <th></th>\n",
              "      <th></th>\n",
              "      <th></th>\n",
              "      <th></th>\n",
              "    </tr>\n",
              "  </thead>\n",
              "  <tbody>\n",
              "    <tr>\n",
              "      <th>0</th>\n",
              "      <td>75.0</td>\n",
              "      <td>75.000000</td>\n",
              "      <td>0.000000</td>\n",
              "      <td>75.0</td>\n",
              "      <td>75.0</td>\n",
              "      <td>75.0</td>\n",
              "      <td>75.0</td>\n",
              "      <td>75.0</td>\n",
              "    </tr>\n",
              "    <tr>\n",
              "      <th>1</th>\n",
              "      <td>731.0</td>\n",
              "      <td>21.489740</td>\n",
              "      <td>6.588977</td>\n",
              "      <td>14.0</td>\n",
              "      <td>15.0</td>\n",
              "      <td>21.0</td>\n",
              "      <td>24.0</td>\n",
              "      <td>38.0</td>\n",
              "    </tr>\n",
              "    <tr>\n",
              "      <th>2</th>\n",
              "      <td>9205.0</td>\n",
              "      <td>5.644432</td>\n",
              "      <td>2.138491</td>\n",
              "      <td>4.0</td>\n",
              "      <td>4.0</td>\n",
              "      <td>5.0</td>\n",
              "      <td>6.0</td>\n",
              "      <td>13.0</td>\n",
              "    </tr>\n",
              "    <tr>\n",
              "      <th>3</th>\n",
              "      <td>106570.0</td>\n",
              "      <td>1.306343</td>\n",
              "      <td>0.570539</td>\n",
              "      <td>0.0</td>\n",
              "      <td>1.0</td>\n",
              "      <td>1.0</td>\n",
              "      <td>2.0</td>\n",
              "      <td>3.0</td>\n",
              "    </tr>\n",
              "  </tbody>\n",
              "</table>\n",
              "</div>"
            ],
            "text/plain": [
              "                      count       mean       std   min   25%   50%   75%   max\n",
              "FrequenciaCluster                                                             \n",
              "0                      75.0  75.000000  0.000000  75.0  75.0  75.0  75.0  75.0\n",
              "1                     731.0  21.489740  6.588977  14.0  15.0  21.0  24.0  38.0\n",
              "2                    9205.0   5.644432  2.138491   4.0   4.0   5.0   6.0  13.0\n",
              "3                  106570.0   1.306343  0.570539   0.0   1.0   1.0   2.0   3.0"
            ]
          },
          "execution_count": 49,
          "metadata": {},
          "output_type": "execute_result"
        }
      ]
    },
    {
      "cell_type": "markdown",
      "metadata": {
        "id": "eaddf28d"
      },
      "source": [
        "### Clusterizando RECEITA"
      ],
      "id": "eaddf28d"
    },
    {
      "cell_type": "code",
      "metadata": {
        "id": "676eb097",
        "outputId": "8e70d7a0-2e5f-46a7-8f81-5870db843f38"
      },
      "source": [
        "df_receita = df.groupby('id_unico_cliente').pagamento_valor.sum().reset_index()\n",
        "df_receita.columns = ['id_unico_cliente', 'Receita']\n",
        "df_usuario = pd.merge(df_usuario,df_receita,on='id_unico_cliente')\n",
        "df_usuario.head()"
      ],
      "id": "676eb097",
      "execution_count": null,
      "outputs": [
        {
          "data": {
            "text/html": [
              "<div>\n",
              "<style scoped>\n",
              "    .dataframe tbody tr th:only-of-type {\n",
              "        vertical-align: middle;\n",
              "    }\n",
              "\n",
              "    .dataframe tbody tr th {\n",
              "        vertical-align: top;\n",
              "    }\n",
              "\n",
              "    .dataframe thead th {\n",
              "        text-align: right;\n",
              "    }\n",
              "</style>\n",
              "<table border=\"1\" class=\"dataframe\">\n",
              "  <thead>\n",
              "    <tr style=\"text-align: right;\">\n",
              "      <th></th>\n",
              "      <th>id_unico_cliente</th>\n",
              "      <th>id_cliente</th>\n",
              "      <th>horario_pedido</th>\n",
              "      <th>item_id</th>\n",
              "      <th>preco</th>\n",
              "      <th>Recencia</th>\n",
              "      <th>RecenciaCluster</th>\n",
              "      <th>Frequencia</th>\n",
              "      <th>FrequenciaCluster</th>\n",
              "      <th>Receita</th>\n",
              "    </tr>\n",
              "  </thead>\n",
              "  <tbody>\n",
              "    <tr>\n",
              "      <th>0</th>\n",
              "      <td>861eff4711a542e4b93843c6dd7febb0</td>\n",
              "      <td>06b8999e2fba1a1fbc88172c00ba8bc7</td>\n",
              "      <td>2017-05-16 15:05:35</td>\n",
              "      <td>1</td>\n",
              "      <td>124.99</td>\n",
              "      <td>474</td>\n",
              "      <td>3</td>\n",
              "      <td>1</td>\n",
              "      <td>3</td>\n",
              "      <td>146.87</td>\n",
              "    </tr>\n",
              "    <tr>\n",
              "      <th>1</th>\n",
              "      <td>3c799d181c34d51f6d44bbbc563024db</td>\n",
              "      <td>f0ac8e5a239118859b1734e1087cbb1f</td>\n",
              "      <td>2017-05-07 20:11:26</td>\n",
              "      <td>1</td>\n",
              "      <td>124.99</td>\n",
              "      <td>483</td>\n",
              "      <td>3</td>\n",
              "      <td>1</td>\n",
              "      <td>3</td>\n",
              "      <td>140.61</td>\n",
              "    </tr>\n",
              "    <tr>\n",
              "      <th>2</th>\n",
              "      <td>567ab47ca4deb92d46dbf54dce07d0a7</td>\n",
              "      <td>fd3a0b1bd209f0e7d420c9c3d1127613</td>\n",
              "      <td>2017-03-23 15:10:17</td>\n",
              "      <td>1</td>\n",
              "      <td>126.99</td>\n",
              "      <td>528</td>\n",
              "      <td>3</td>\n",
              "      <td>1</td>\n",
              "      <td>3</td>\n",
              "      <td>142.05</td>\n",
              "    </tr>\n",
              "    <tr>\n",
              "      <th>3</th>\n",
              "      <td>f40ab89b622248b7ca125af4b486b887</td>\n",
              "      <td>fbd40c083aa8cddebb5265b2ba6aaf2e</td>\n",
              "      <td>2017-05-16 10:00:49</td>\n",
              "      <td>1</td>\n",
              "      <td>124.99</td>\n",
              "      <td>474</td>\n",
              "      <td>3</td>\n",
              "      <td>1</td>\n",
              "      <td>3</td>\n",
              "      <td>155.70</td>\n",
              "    </tr>\n",
              "    <tr>\n",
              "      <th>4</th>\n",
              "      <td>749943913a9851a39c9baf51877fbab6</td>\n",
              "      <td>10558ef4afea173bfb5e2cbe3d5b0bb5</td>\n",
              "      <td>2017-03-18 23:04:36</td>\n",
              "      <td>1</td>\n",
              "      <td>126.99</td>\n",
              "      <td>533</td>\n",
              "      <td>3</td>\n",
              "      <td>1</td>\n",
              "      <td>3</td>\n",
              "      <td>148.33</td>\n",
              "    </tr>\n",
              "  </tbody>\n",
              "</table>\n",
              "</div>"
            ],
            "text/plain": [
              "                   id_unico_cliente                        id_cliente  \\\n",
              "0  861eff4711a542e4b93843c6dd7febb0  06b8999e2fba1a1fbc88172c00ba8bc7   \n",
              "1  3c799d181c34d51f6d44bbbc563024db  f0ac8e5a239118859b1734e1087cbb1f   \n",
              "2  567ab47ca4deb92d46dbf54dce07d0a7  fd3a0b1bd209f0e7d420c9c3d1127613   \n",
              "3  f40ab89b622248b7ca125af4b486b887  fbd40c083aa8cddebb5265b2ba6aaf2e   \n",
              "4  749943913a9851a39c9baf51877fbab6  10558ef4afea173bfb5e2cbe3d5b0bb5   \n",
              "\n",
              "        horario_pedido  item_id   preco  Recencia  RecenciaCluster  \\\n",
              "0  2017-05-16 15:05:35        1  124.99       474                3   \n",
              "1  2017-05-07 20:11:26        1  124.99       483                3   \n",
              "2  2017-03-23 15:10:17        1  126.99       528                3   \n",
              "3  2017-05-16 10:00:49        1  124.99       474                3   \n",
              "4  2017-03-18 23:04:36        1  126.99       533                3   \n",
              "\n",
              "   Frequencia  FrequenciaCluster  Receita  \n",
              "0           1                  3   146.87  \n",
              "1           1                  3   140.61  \n",
              "2           1                  3   142.05  \n",
              "3           1                  3   155.70  \n",
              "4           1                  3   148.33  "
            ]
          },
          "execution_count": 50,
          "metadata": {},
          "output_type": "execute_result"
        }
      ]
    },
    {
      "cell_type": "code",
      "metadata": {
        "id": "c58b22da",
        "outputId": "66c27f39-4fb4-4fb5-8339-2f16f6bb6edb"
      },
      "source": [
        "df_receita.head()"
      ],
      "id": "c58b22da",
      "execution_count": null,
      "outputs": [
        {
          "data": {
            "text/html": [
              "<div>\n",
              "<style scoped>\n",
              "    .dataframe tbody tr th:only-of-type {\n",
              "        vertical-align: middle;\n",
              "    }\n",
              "\n",
              "    .dataframe tbody tr th {\n",
              "        vertical-align: top;\n",
              "    }\n",
              "\n",
              "    .dataframe thead th {\n",
              "        text-align: right;\n",
              "    }\n",
              "</style>\n",
              "<table border=\"1\" class=\"dataframe\">\n",
              "  <thead>\n",
              "    <tr style=\"text-align: right;\">\n",
              "      <th></th>\n",
              "      <th>id_unico_cliente</th>\n",
              "      <th>Receita</th>\n",
              "    </tr>\n",
              "  </thead>\n",
              "  <tbody>\n",
              "    <tr>\n",
              "      <th>0</th>\n",
              "      <td>0000366f3b9a7992bf8c76cfdf3221e2</td>\n",
              "      <td>141.90</td>\n",
              "    </tr>\n",
              "    <tr>\n",
              "      <th>1</th>\n",
              "      <td>0000b849f77a49e4a4ce2b2a4ca5be3f</td>\n",
              "      <td>27.19</td>\n",
              "    </tr>\n",
              "    <tr>\n",
              "      <th>2</th>\n",
              "      <td>0000f46a3911fa3c0805444483337064</td>\n",
              "      <td>86.22</td>\n",
              "    </tr>\n",
              "    <tr>\n",
              "      <th>3</th>\n",
              "      <td>0000f6ccb0745a6a4b88665a16c9f078</td>\n",
              "      <td>43.62</td>\n",
              "    </tr>\n",
              "    <tr>\n",
              "      <th>4</th>\n",
              "      <td>0004aac84e0df4da2b147fca70cf8255</td>\n",
              "      <td>196.89</td>\n",
              "    </tr>\n",
              "  </tbody>\n",
              "</table>\n",
              "</div>"
            ],
            "text/plain": [
              "                   id_unico_cliente  Receita\n",
              "0  0000366f3b9a7992bf8c76cfdf3221e2   141.90\n",
              "1  0000b849f77a49e4a4ce2b2a4ca5be3f    27.19\n",
              "2  0000f46a3911fa3c0805444483337064    86.22\n",
              "3  0000f6ccb0745a6a4b88665a16c9f078    43.62\n",
              "4  0004aac84e0df4da2b147fca70cf8255   196.89"
            ]
          },
          "execution_count": 51,
          "metadata": {},
          "output_type": "execute_result"
        }
      ]
    },
    {
      "cell_type": "raw",
      "metadata": {
        "id": "a545e7b9"
      },
      "source": [
        "df_usuario = ordenador_cluster('ReceitaCluster', 'Receita', df_usuario,False)"
      ],
      "id": "a545e7b9"
    },
    {
      "cell_type": "code",
      "metadata": {
        "id": "dc191021"
      },
      "source": [
        "df_pagamento = df_usuario[['Receita']]\n",
        "kmeans = KMeans(n_clusters=4)\n",
        "df_usuario['ReceitaCluster'] = kmeans.fit_predict(df_pagamento)"
      ],
      "id": "dc191021",
      "execution_count": null,
      "outputs": []
    },
    {
      "cell_type": "code",
      "metadata": {
        "id": "0a7543a3"
      },
      "source": [
        "df_usuario = ordenador_cluster('ReceitaCluster','Receita',df_usuario,False)"
      ],
      "id": "0a7543a3",
      "execution_count": null,
      "outputs": []
    },
    {
      "cell_type": "code",
      "metadata": {
        "id": "8f574535",
        "outputId": "942a07e8-3e21-42b1-f902-4c0467dfa617"
      },
      "source": [
        "df_usuario.groupby('ReceitaCluster')['Receita'].describe()"
      ],
      "id": "8f574535",
      "execution_count": null,
      "outputs": [
        {
          "data": {
            "text/html": [
              "<div>\n",
              "<style scoped>\n",
              "    .dataframe tbody tr th:only-of-type {\n",
              "        vertical-align: middle;\n",
              "    }\n",
              "\n",
              "    .dataframe tbody tr th {\n",
              "        vertical-align: top;\n",
              "    }\n",
              "\n",
              "    .dataframe thead th {\n",
              "        text-align: right;\n",
              "    }\n",
              "</style>\n",
              "<table border=\"1\" class=\"dataframe\">\n",
              "  <thead>\n",
              "    <tr style=\"text-align: right;\">\n",
              "      <th></th>\n",
              "      <th>count</th>\n",
              "      <th>mean</th>\n",
              "      <th>std</th>\n",
              "      <th>min</th>\n",
              "      <th>25%</th>\n",
              "      <th>50%</th>\n",
              "      <th>75%</th>\n",
              "      <th>max</th>\n",
              "    </tr>\n",
              "    <tr>\n",
              "      <th>ReceitaCluster</th>\n",
              "      <th></th>\n",
              "      <th></th>\n",
              "      <th></th>\n",
              "      <th></th>\n",
              "      <th></th>\n",
              "      <th></th>\n",
              "      <th></th>\n",
              "      <th></th>\n",
              "    </tr>\n",
              "  </thead>\n",
              "  <tbody>\n",
              "    <tr>\n",
              "      <th>0</th>\n",
              "      <td>8.0</td>\n",
              "      <td>109312.640000</td>\n",
              "      <td>0.000000</td>\n",
              "      <td>109312.64</td>\n",
              "      <td>109312.64</td>\n",
              "      <td>109312.64</td>\n",
              "      <td>109312.64</td>\n",
              "      <td>109312.64</td>\n",
              "    </tr>\n",
              "    <tr>\n",
              "      <th>1</th>\n",
              "      <td>191.0</td>\n",
              "      <td>27358.656911</td>\n",
              "      <td>10032.832924</td>\n",
              "      <td>17069.76</td>\n",
              "      <td>19167.26</td>\n",
              "      <td>25051.89</td>\n",
              "      <td>30186.00</td>\n",
              "      <td>45256.00</td>\n",
              "    </tr>\n",
              "    <tr>\n",
              "      <th>2</th>\n",
              "      <td>1619.0</td>\n",
              "      <td>5650.053385</td>\n",
              "      <td>2881.999747</td>\n",
              "      <td>2951.83</td>\n",
              "      <td>3557.12</td>\n",
              "      <td>4491.44</td>\n",
              "      <td>6914.63</td>\n",
              "      <td>16313.60</td>\n",
              "    </tr>\n",
              "    <tr>\n",
              "      <th>3</th>\n",
              "      <td>114763.0</td>\n",
              "      <td>258.095126</td>\n",
              "      <td>364.892800</td>\n",
              "      <td>9.59</td>\n",
              "      <td>69.90</td>\n",
              "      <td>132.57</td>\n",
              "      <td>269.10</td>\n",
              "      <td>2950.16</td>\n",
              "    </tr>\n",
              "  </tbody>\n",
              "</table>\n",
              "</div>"
            ],
            "text/plain": [
              "                   count           mean           std        min        25%  \\\n",
              "ReceitaCluster                                                                \n",
              "0                    8.0  109312.640000      0.000000  109312.64  109312.64   \n",
              "1                  191.0   27358.656911  10032.832924   17069.76   19167.26   \n",
              "2                 1619.0    5650.053385   2881.999747    2951.83    3557.12   \n",
              "3               114763.0     258.095126    364.892800       9.59      69.90   \n",
              "\n",
              "                      50%        75%        max  \n",
              "ReceitaCluster                                   \n",
              "0               109312.64  109312.64  109312.64  \n",
              "1                25051.89   30186.00   45256.00  \n",
              "2                 4491.44    6914.63   16313.60  \n",
              "3                  132.57     269.10    2950.16  "
            ]
          },
          "execution_count": 55,
          "metadata": {},
          "output_type": "execute_result"
        }
      ]
    },
    {
      "cell_type": "code",
      "metadata": {
        "id": "d6417aae",
        "outputId": "09745b71-35b6-4b89-970c-009905e8a890"
      },
      "source": [
        "df_usuario.head()"
      ],
      "id": "d6417aae",
      "execution_count": null,
      "outputs": [
        {
          "data": {
            "text/html": [
              "<div>\n",
              "<style scoped>\n",
              "    .dataframe tbody tr th:only-of-type {\n",
              "        vertical-align: middle;\n",
              "    }\n",
              "\n",
              "    .dataframe tbody tr th {\n",
              "        vertical-align: top;\n",
              "    }\n",
              "\n",
              "    .dataframe thead th {\n",
              "        text-align: right;\n",
              "    }\n",
              "</style>\n",
              "<table border=\"1\" class=\"dataframe\">\n",
              "  <thead>\n",
              "    <tr style=\"text-align: right;\">\n",
              "      <th></th>\n",
              "      <th>id_unico_cliente</th>\n",
              "      <th>id_cliente</th>\n",
              "      <th>horario_pedido</th>\n",
              "      <th>item_id</th>\n",
              "      <th>preco</th>\n",
              "      <th>Recencia</th>\n",
              "      <th>RecenciaCluster</th>\n",
              "      <th>Frequencia</th>\n",
              "      <th>FrequenciaCluster</th>\n",
              "      <th>Receita</th>\n",
              "      <th>ReceitaCluster</th>\n",
              "    </tr>\n",
              "  </thead>\n",
              "  <tbody>\n",
              "    <tr>\n",
              "      <th>0</th>\n",
              "      <td>861eff4711a542e4b93843c6dd7febb0</td>\n",
              "      <td>06b8999e2fba1a1fbc88172c00ba8bc7</td>\n",
              "      <td>2017-05-16 15:05:35</td>\n",
              "      <td>1</td>\n",
              "      <td>124.99</td>\n",
              "      <td>474</td>\n",
              "      <td>3</td>\n",
              "      <td>1</td>\n",
              "      <td>3</td>\n",
              "      <td>146.87</td>\n",
              "      <td>3</td>\n",
              "    </tr>\n",
              "    <tr>\n",
              "      <th>1</th>\n",
              "      <td>3c799d181c34d51f6d44bbbc563024db</td>\n",
              "      <td>f0ac8e5a239118859b1734e1087cbb1f</td>\n",
              "      <td>2017-05-07 20:11:26</td>\n",
              "      <td>1</td>\n",
              "      <td>124.99</td>\n",
              "      <td>483</td>\n",
              "      <td>3</td>\n",
              "      <td>1</td>\n",
              "      <td>3</td>\n",
              "      <td>140.61</td>\n",
              "      <td>3</td>\n",
              "    </tr>\n",
              "    <tr>\n",
              "      <th>2</th>\n",
              "      <td>567ab47ca4deb92d46dbf54dce07d0a7</td>\n",
              "      <td>fd3a0b1bd209f0e7d420c9c3d1127613</td>\n",
              "      <td>2017-03-23 15:10:17</td>\n",
              "      <td>1</td>\n",
              "      <td>126.99</td>\n",
              "      <td>528</td>\n",
              "      <td>3</td>\n",
              "      <td>1</td>\n",
              "      <td>3</td>\n",
              "      <td>142.05</td>\n",
              "      <td>3</td>\n",
              "    </tr>\n",
              "    <tr>\n",
              "      <th>3</th>\n",
              "      <td>f40ab89b622248b7ca125af4b486b887</td>\n",
              "      <td>fbd40c083aa8cddebb5265b2ba6aaf2e</td>\n",
              "      <td>2017-05-16 10:00:49</td>\n",
              "      <td>1</td>\n",
              "      <td>124.99</td>\n",
              "      <td>474</td>\n",
              "      <td>3</td>\n",
              "      <td>1</td>\n",
              "      <td>3</td>\n",
              "      <td>155.70</td>\n",
              "      <td>3</td>\n",
              "    </tr>\n",
              "    <tr>\n",
              "      <th>4</th>\n",
              "      <td>749943913a9851a39c9baf51877fbab6</td>\n",
              "      <td>10558ef4afea173bfb5e2cbe3d5b0bb5</td>\n",
              "      <td>2017-03-18 23:04:36</td>\n",
              "      <td>1</td>\n",
              "      <td>126.99</td>\n",
              "      <td>533</td>\n",
              "      <td>3</td>\n",
              "      <td>1</td>\n",
              "      <td>3</td>\n",
              "      <td>148.33</td>\n",
              "      <td>3</td>\n",
              "    </tr>\n",
              "  </tbody>\n",
              "</table>\n",
              "</div>"
            ],
            "text/plain": [
              "                   id_unico_cliente                        id_cliente  \\\n",
              "0  861eff4711a542e4b93843c6dd7febb0  06b8999e2fba1a1fbc88172c00ba8bc7   \n",
              "1  3c799d181c34d51f6d44bbbc563024db  f0ac8e5a239118859b1734e1087cbb1f   \n",
              "2  567ab47ca4deb92d46dbf54dce07d0a7  fd3a0b1bd209f0e7d420c9c3d1127613   \n",
              "3  f40ab89b622248b7ca125af4b486b887  fbd40c083aa8cddebb5265b2ba6aaf2e   \n",
              "4  749943913a9851a39c9baf51877fbab6  10558ef4afea173bfb5e2cbe3d5b0bb5   \n",
              "\n",
              "        horario_pedido  item_id   preco  Recencia  RecenciaCluster  \\\n",
              "0  2017-05-16 15:05:35        1  124.99       474                3   \n",
              "1  2017-05-07 20:11:26        1  124.99       483                3   \n",
              "2  2017-03-23 15:10:17        1  126.99       528                3   \n",
              "3  2017-05-16 10:00:49        1  124.99       474                3   \n",
              "4  2017-03-18 23:04:36        1  126.99       533                3   \n",
              "\n",
              "   Frequencia  FrequenciaCluster  Receita  ReceitaCluster  \n",
              "0           1                  3   146.87               3  \n",
              "1           1                  3   140.61               3  \n",
              "2           1                  3   142.05               3  \n",
              "3           1                  3   155.70               3  \n",
              "4           1                  3   148.33               3  "
            ]
          },
          "execution_count": 56,
          "metadata": {},
          "output_type": "execute_result"
        }
      ]
    },
    {
      "cell_type": "markdown",
      "metadata": {
        "id": "ffa4c44c"
      },
      "source": [
        "#  Criando pontuação dos clientes"
      ],
      "id": "ffa4c44c"
    },
    {
      "cell_type": "markdown",
      "metadata": {
        "id": "adae34e3"
      },
      "source": [
        "###### Separando um dataset 'final' com as variáveis que importam"
      ],
      "id": "adae34e3"
    },
    {
      "cell_type": "code",
      "metadata": {
        "id": "37e85cf2",
        "outputId": "39d9f909-2324-4210-9126-dbdd94e03d39"
      },
      "source": [
        "df_final = df_usuario[['id_unico_cliente','Recencia','RecenciaCluster','Frequencia','FrequenciaCluster','Receita','ReceitaCluster']]\n",
        "df_final.tail()"
      ],
      "id": "37e85cf2",
      "execution_count": null,
      "outputs": [
        {
          "data": {
            "text/html": [
              "<div>\n",
              "<style scoped>\n",
              "    .dataframe tbody tr th:only-of-type {\n",
              "        vertical-align: middle;\n",
              "    }\n",
              "\n",
              "    .dataframe tbody tr th {\n",
              "        vertical-align: top;\n",
              "    }\n",
              "\n",
              "    .dataframe thead th {\n",
              "        text-align: right;\n",
              "    }\n",
              "</style>\n",
              "<table border=\"1\" class=\"dataframe\">\n",
              "  <thead>\n",
              "    <tr style=\"text-align: right;\">\n",
              "      <th></th>\n",
              "      <th>id_unico_cliente</th>\n",
              "      <th>Recencia</th>\n",
              "      <th>RecenciaCluster</th>\n",
              "      <th>Frequencia</th>\n",
              "      <th>FrequenciaCluster</th>\n",
              "      <th>Receita</th>\n",
              "      <th>ReceitaCluster</th>\n",
              "    </tr>\n",
              "  </thead>\n",
              "  <tbody>\n",
              "    <tr>\n",
              "      <th>116576</th>\n",
              "      <td>0a0a92112bd4c708ca5fde585afaa872</td>\n",
              "      <td>338</td>\n",
              "      <td>2</td>\n",
              "      <td>8</td>\n",
              "      <td>2</td>\n",
              "      <td>109312.64</td>\n",
              "      <td>0</td>\n",
              "    </tr>\n",
              "    <tr>\n",
              "      <th>116577</th>\n",
              "      <td>0a0a92112bd4c708ca5fde585afaa872</td>\n",
              "      <td>338</td>\n",
              "      <td>2</td>\n",
              "      <td>8</td>\n",
              "      <td>2</td>\n",
              "      <td>109312.64</td>\n",
              "      <td>0</td>\n",
              "    </tr>\n",
              "    <tr>\n",
              "      <th>116578</th>\n",
              "      <td>0a0a92112bd4c708ca5fde585afaa872</td>\n",
              "      <td>338</td>\n",
              "      <td>2</td>\n",
              "      <td>8</td>\n",
              "      <td>2</td>\n",
              "      <td>109312.64</td>\n",
              "      <td>0</td>\n",
              "    </tr>\n",
              "    <tr>\n",
              "      <th>116579</th>\n",
              "      <td>0a0a92112bd4c708ca5fde585afaa872</td>\n",
              "      <td>338</td>\n",
              "      <td>2</td>\n",
              "      <td>8</td>\n",
              "      <td>2</td>\n",
              "      <td>109312.64</td>\n",
              "      <td>0</td>\n",
              "    </tr>\n",
              "    <tr>\n",
              "      <th>116580</th>\n",
              "      <td>0a0a92112bd4c708ca5fde585afaa872</td>\n",
              "      <td>338</td>\n",
              "      <td>2</td>\n",
              "      <td>8</td>\n",
              "      <td>2</td>\n",
              "      <td>109312.64</td>\n",
              "      <td>0</td>\n",
              "    </tr>\n",
              "  </tbody>\n",
              "</table>\n",
              "</div>"
            ],
            "text/plain": [
              "                        id_unico_cliente  Recencia  RecenciaCluster  \\\n",
              "116576  0a0a92112bd4c708ca5fde585afaa872       338                2   \n",
              "116577  0a0a92112bd4c708ca5fde585afaa872       338                2   \n",
              "116578  0a0a92112bd4c708ca5fde585afaa872       338                2   \n",
              "116579  0a0a92112bd4c708ca5fde585afaa872       338                2   \n",
              "116580  0a0a92112bd4c708ca5fde585afaa872       338                2   \n",
              "\n",
              "        Frequencia  FrequenciaCluster    Receita  ReceitaCluster  \n",
              "116576           8                  2  109312.64               0  \n",
              "116577           8                  2  109312.64               0  \n",
              "116578           8                  2  109312.64               0  \n",
              "116579           8                  2  109312.64               0  \n",
              "116580           8                  2  109312.64               0  "
            ]
          },
          "execution_count": 57,
          "metadata": {},
          "output_type": "execute_result"
        }
      ]
    },
    {
      "cell_type": "code",
      "metadata": {
        "id": "53cf0c9e",
        "outputId": "ebab33f5-44a7-4708-dc02-ab287aada83e"
      },
      "source": [
        "import sys\n",
        "import warnings\n",
        "\n",
        "if not sys.warnoptions:\n",
        "    warnings.simplefilter('ignore') # REMOVER OS WARNINGS\n",
        "    \n",
        "df_final['Pontuacao'] = df_usuario['RecenciaCluster'] + df_usuario['FrequenciaCluster'] + df_usuario['ReceitaCluster']\n",
        "df_final.head()"
      ],
      "id": "53cf0c9e",
      "execution_count": null,
      "outputs": [
        {
          "data": {
            "text/html": [
              "<div>\n",
              "<style scoped>\n",
              "    .dataframe tbody tr th:only-of-type {\n",
              "        vertical-align: middle;\n",
              "    }\n",
              "\n",
              "    .dataframe tbody tr th {\n",
              "        vertical-align: top;\n",
              "    }\n",
              "\n",
              "    .dataframe thead th {\n",
              "        text-align: right;\n",
              "    }\n",
              "</style>\n",
              "<table border=\"1\" class=\"dataframe\">\n",
              "  <thead>\n",
              "    <tr style=\"text-align: right;\">\n",
              "      <th></th>\n",
              "      <th>id_unico_cliente</th>\n",
              "      <th>Recencia</th>\n",
              "      <th>RecenciaCluster</th>\n",
              "      <th>Frequencia</th>\n",
              "      <th>FrequenciaCluster</th>\n",
              "      <th>Receita</th>\n",
              "      <th>ReceitaCluster</th>\n",
              "      <th>Pontuacao</th>\n",
              "    </tr>\n",
              "  </thead>\n",
              "  <tbody>\n",
              "    <tr>\n",
              "      <th>0</th>\n",
              "      <td>861eff4711a542e4b93843c6dd7febb0</td>\n",
              "      <td>474</td>\n",
              "      <td>3</td>\n",
              "      <td>1</td>\n",
              "      <td>3</td>\n",
              "      <td>146.87</td>\n",
              "      <td>3</td>\n",
              "      <td>9</td>\n",
              "    </tr>\n",
              "    <tr>\n",
              "      <th>1</th>\n",
              "      <td>3c799d181c34d51f6d44bbbc563024db</td>\n",
              "      <td>483</td>\n",
              "      <td>3</td>\n",
              "      <td>1</td>\n",
              "      <td>3</td>\n",
              "      <td>140.61</td>\n",
              "      <td>3</td>\n",
              "      <td>9</td>\n",
              "    </tr>\n",
              "    <tr>\n",
              "      <th>2</th>\n",
              "      <td>567ab47ca4deb92d46dbf54dce07d0a7</td>\n",
              "      <td>528</td>\n",
              "      <td>3</td>\n",
              "      <td>1</td>\n",
              "      <td>3</td>\n",
              "      <td>142.05</td>\n",
              "      <td>3</td>\n",
              "      <td>9</td>\n",
              "    </tr>\n",
              "    <tr>\n",
              "      <th>3</th>\n",
              "      <td>f40ab89b622248b7ca125af4b486b887</td>\n",
              "      <td>474</td>\n",
              "      <td>3</td>\n",
              "      <td>1</td>\n",
              "      <td>3</td>\n",
              "      <td>155.70</td>\n",
              "      <td>3</td>\n",
              "      <td>9</td>\n",
              "    </tr>\n",
              "    <tr>\n",
              "      <th>4</th>\n",
              "      <td>749943913a9851a39c9baf51877fbab6</td>\n",
              "      <td>533</td>\n",
              "      <td>3</td>\n",
              "      <td>1</td>\n",
              "      <td>3</td>\n",
              "      <td>148.33</td>\n",
              "      <td>3</td>\n",
              "      <td>9</td>\n",
              "    </tr>\n",
              "  </tbody>\n",
              "</table>\n",
              "</div>"
            ],
            "text/plain": [
              "                   id_unico_cliente  Recencia  RecenciaCluster  Frequencia  \\\n",
              "0  861eff4711a542e4b93843c6dd7febb0       474                3           1   \n",
              "1  3c799d181c34d51f6d44bbbc563024db       483                3           1   \n",
              "2  567ab47ca4deb92d46dbf54dce07d0a7       528                3           1   \n",
              "3  f40ab89b622248b7ca125af4b486b887       474                3           1   \n",
              "4  749943913a9851a39c9baf51877fbab6       533                3           1   \n",
              "\n",
              "   FrequenciaCluster  Receita  ReceitaCluster  Pontuacao  \n",
              "0                  3   146.87               3          9  \n",
              "1                  3   140.61               3          9  \n",
              "2                  3   142.05               3          9  \n",
              "3                  3   155.70               3          9  \n",
              "4                  3   148.33               3          9  "
            ]
          },
          "execution_count": 58,
          "metadata": {},
          "output_type": "execute_result"
        }
      ]
    },
    {
      "cell_type": "code",
      "metadata": {
        "id": "2acf4bcb",
        "outputId": "59fe9a84-5d37-45ba-ee87-c7c683232c82"
      },
      "source": [
        "df_final['Pontuacao'].max()"
      ],
      "id": "2acf4bcb",
      "execution_count": null,
      "outputs": [
        {
          "data": {
            "text/plain": [
              "9"
            ]
          },
          "execution_count": 59,
          "metadata": {},
          "output_type": "execute_result"
        }
      ]
    },
    {
      "cell_type": "markdown",
      "metadata": {
        "id": "7a9e9b3b"
      },
      "source": [
        "###### Separação por segmento"
      ],
      "id": "7a9e9b3b"
    },
    {
      "cell_type": "code",
      "metadata": {
        "id": "0dc097cd"
      },
      "source": [
        "df_final['Segmento'] = 'Inativo'\n",
        "df_final.loc[df_final['Pontuacao'] >= 1, 'Segmento'] = 'Business'\n",
        "df_final.loc[df_final['Pontuacao'] >= 3, 'Segmento'] = 'Master'\n",
        "df_final.loc[df_final['Pontuacao'] >= 5, 'Segmento'] = 'Premium'"
      ],
      "id": "0dc097cd",
      "execution_count": null,
      "outputs": []
    },
    {
      "cell_type": "code",
      "metadata": {
        "id": "4ce0b90a",
        "outputId": "87d06f76-7d7a-49ed-d204-73432d881163"
      },
      "source": [
        "df_final.tail()"
      ],
      "id": "4ce0b90a",
      "execution_count": null,
      "outputs": [
        {
          "data": {
            "text/html": [
              "<div>\n",
              "<style scoped>\n",
              "    .dataframe tbody tr th:only-of-type {\n",
              "        vertical-align: middle;\n",
              "    }\n",
              "\n",
              "    .dataframe tbody tr th {\n",
              "        vertical-align: top;\n",
              "    }\n",
              "\n",
              "    .dataframe thead th {\n",
              "        text-align: right;\n",
              "    }\n",
              "</style>\n",
              "<table border=\"1\" class=\"dataframe\">\n",
              "  <thead>\n",
              "    <tr style=\"text-align: right;\">\n",
              "      <th></th>\n",
              "      <th>id_unico_cliente</th>\n",
              "      <th>Recencia</th>\n",
              "      <th>RecenciaCluster</th>\n",
              "      <th>Frequencia</th>\n",
              "      <th>FrequenciaCluster</th>\n",
              "      <th>Receita</th>\n",
              "      <th>ReceitaCluster</th>\n",
              "      <th>Pontuacao</th>\n",
              "      <th>Segmento</th>\n",
              "    </tr>\n",
              "  </thead>\n",
              "  <tbody>\n",
              "    <tr>\n",
              "      <th>116576</th>\n",
              "      <td>0a0a92112bd4c708ca5fde585afaa872</td>\n",
              "      <td>338</td>\n",
              "      <td>2</td>\n",
              "      <td>8</td>\n",
              "      <td>2</td>\n",
              "      <td>109312.64</td>\n",
              "      <td>0</td>\n",
              "      <td>4</td>\n",
              "      <td>Master</td>\n",
              "    </tr>\n",
              "    <tr>\n",
              "      <th>116577</th>\n",
              "      <td>0a0a92112bd4c708ca5fde585afaa872</td>\n",
              "      <td>338</td>\n",
              "      <td>2</td>\n",
              "      <td>8</td>\n",
              "      <td>2</td>\n",
              "      <td>109312.64</td>\n",
              "      <td>0</td>\n",
              "      <td>4</td>\n",
              "      <td>Master</td>\n",
              "    </tr>\n",
              "    <tr>\n",
              "      <th>116578</th>\n",
              "      <td>0a0a92112bd4c708ca5fde585afaa872</td>\n",
              "      <td>338</td>\n",
              "      <td>2</td>\n",
              "      <td>8</td>\n",
              "      <td>2</td>\n",
              "      <td>109312.64</td>\n",
              "      <td>0</td>\n",
              "      <td>4</td>\n",
              "      <td>Master</td>\n",
              "    </tr>\n",
              "    <tr>\n",
              "      <th>116579</th>\n",
              "      <td>0a0a92112bd4c708ca5fde585afaa872</td>\n",
              "      <td>338</td>\n",
              "      <td>2</td>\n",
              "      <td>8</td>\n",
              "      <td>2</td>\n",
              "      <td>109312.64</td>\n",
              "      <td>0</td>\n",
              "      <td>4</td>\n",
              "      <td>Master</td>\n",
              "    </tr>\n",
              "    <tr>\n",
              "      <th>116580</th>\n",
              "      <td>0a0a92112bd4c708ca5fde585afaa872</td>\n",
              "      <td>338</td>\n",
              "      <td>2</td>\n",
              "      <td>8</td>\n",
              "      <td>2</td>\n",
              "      <td>109312.64</td>\n",
              "      <td>0</td>\n",
              "      <td>4</td>\n",
              "      <td>Master</td>\n",
              "    </tr>\n",
              "  </tbody>\n",
              "</table>\n",
              "</div>"
            ],
            "text/plain": [
              "                        id_unico_cliente  Recencia  RecenciaCluster  \\\n",
              "116576  0a0a92112bd4c708ca5fde585afaa872       338                2   \n",
              "116577  0a0a92112bd4c708ca5fde585afaa872       338                2   \n",
              "116578  0a0a92112bd4c708ca5fde585afaa872       338                2   \n",
              "116579  0a0a92112bd4c708ca5fde585afaa872       338                2   \n",
              "116580  0a0a92112bd4c708ca5fde585afaa872       338                2   \n",
              "\n",
              "        Frequencia  FrequenciaCluster    Receita  ReceitaCluster  Pontuacao  \\\n",
              "116576           8                  2  109312.64               0          4   \n",
              "116577           8                  2  109312.64               0          4   \n",
              "116578           8                  2  109312.64               0          4   \n",
              "116579           8                  2  109312.64               0          4   \n",
              "116580           8                  2  109312.64               0          4   \n",
              "\n",
              "       Segmento  \n",
              "116576   Master  \n",
              "116577   Master  \n",
              "116578   Master  \n",
              "116579   Master  \n",
              "116580   Master  "
            ]
          },
          "execution_count": 61,
          "metadata": {},
          "output_type": "execute_result"
        }
      ]
    },
    {
      "cell_type": "code",
      "metadata": {
        "id": "552b10b0"
      },
      "source": [
        "df_final.to_csv('RFM.csv')"
      ],
      "id": "552b10b0",
      "execution_count": null,
      "outputs": []
    },
    {
      "cell_type": "markdown",
      "metadata": {
        "id": "b1542835"
      },
      "source": [
        "# Analise visual das features clusterizadas"
      ],
      "id": "b1542835"
    },
    {
      "cell_type": "code",
      "metadata": {
        "id": "a580cb7b"
      },
      "source": [
        "def plot_segmento(x,y,data):\n",
        "    sns.set(palette='muted',color_codes=True,style='whitegrid')\n",
        "    plt.figure(figsize=(7,5))\n",
        "    sns.scatterplot(x=x,\n",
        "                    y=y,\n",
        "                    hue='Segmento',\n",
        "                    data=data,size='Segmento',\n",
        "                    sizes=(50,150),\n",
        "                    size_order=['Premium','Master','Business','Inativo'])\n",
        "    plt.show()"
      ],
      "id": "a580cb7b",
      "execution_count": null,
      "outputs": []
    },
    {
      "cell_type": "code",
      "metadata": {
        "id": "06a4f52d",
        "outputId": "c086f074-9116-48d4-f199-4cb89f3db36f"
      },
      "source": [
        "plot_segmento('Recencia','Frequencia',df_final) # Aqui temos um outlier de um cliente Master que comprou bastante mas que\n",
        "                                                #    faz tempo que nao compra nada. Pode se pensar em alguma promoção"
      ],
      "id": "06a4f52d",
      "execution_count": null,
      "outputs": [
        {
          "data": {
            "image/png": "[encoded data removed]",
            "text/plain": [
              "<Figure size 504x360 with 1 Axes>"
            ]
          },
          "metadata": {},
          "output_type": "display_data"
        }
      ]
    },
    {
      "cell_type": "code",
      "metadata": {
        "id": "43782f99",
        "outputId": "bf280fbd-7018-4d22-aed7-dadb4ca5c955"
      },
      "source": [
        "plot_segmento('Frequencia', 'Receita', df_final)"
      ],
      "id": "43782f99",
      "execution_count": null,
      "outputs": [
        {
          "data": {
            "image/png": "[encoded data removed]",
            "text/plain": [
              "<Figure size 504x360 with 1 Axes>"
            ]
          },
          "metadata": {},
          "output_type": "display_data"
        }
      ]
    },
    {
      "cell_type": "code",
      "metadata": {
        "id": "0849f2df",
        "outputId": "cdd269cf-5b12-45d2-92e2-c3bffc6437bd"
      },
      "source": [
        "plot_segmento('Recencia', 'Receita', df_final)"
      ],
      "id": "0849f2df",
      "execution_count": null,
      "outputs": [
        {
          "data": {
            "image/png": "[encoded data removed]",
            "text/plain": [
              "<Figure size 504x360 with 1 Axes>"
            ]
          },
          "metadata": {},
          "output_type": "display_data"
        }
      ]
    },
    {
      "cell_type": "code",
      "metadata": {
        "id": "0b763866",
        "outputId": "908b4c47-1579-4654-ff94-9341abc91903"
      },
      "source": [
        "sns.countplot(df_final['Segmento'])"
      ],
      "id": "0b763866",
      "execution_count": null,
      "outputs": [
        {
          "data": {
            "text/plain": [
              "<AxesSubplot:xlabel='Segmento', ylabel='count'>"
            ]
          },
          "execution_count": 67,
          "metadata": {},
          "output_type": "execute_result"
        },
        {
          "data": {
            "image/png": "[encoded data removed]",
            "text/plain": [
              "<Figure size 432x288 with 1 Axes>"
            ]
          },
          "metadata": {},
          "output_type": "display_data"
        }
      ]
    },
    {
      "cell_type": "markdown",
      "metadata": {
        "id": "e53a31e0"
      },
      "source": [
        "![image.png](attachment:image.png)"
      ],
      "id": "e53a31e0"
    },
    {
      "cell_type": "code",
      "metadata": {
        "id": "5cf4f45d"
      },
      "source": [
        "df_final.loc[(df_final['RecenciaCluster']==0) & (df_final['FrequenciaCluster']==3) & (df_final['ReceitaCluster']==3),'Segmento'] = 'Campeao'\n",
        "\n",
        "df_final.loc[(df_final['RecenciaCluster']==1) & (df_final['FrequenciaCluster']==3) & (df_final['ReceitaCluster']==3),'Segmento'] = 'Fiel'\n",
        "\n",
        "df_final.loc[(df_final['RecenciaCluster']==1) & (df_final['FrequenciaCluster']==2) & (df_final['ReceitaCluster']==2),'Segmento'] = 'Potencialmente Fiel - Tipo 1'\n",
        "\n",
        "df_final.loc[(df_final['RecenciaCluster']==1) & (df_final['FrequenciaCluster']==1) & (df_final['ReceitaCluster']==3),'Segmento'] = 'Potencialmente Fiel - Tipo 2'\n",
        "\n",
        "df_final.loc[(df_final['RecenciaCluster']==0) & (df_final['FrequenciaCluster']==0) & (df_final['ReceitaCluster']==0),'Segmento'] = 'Novos'\n",
        "\n",
        "df_final.loc[(df_final['RecenciaCluster']==0) & (df_final['FrequenciaCluster']==1) & (df_final['ReceitaCluster']==1),'Segmento'] = 'Promissores'\n",
        "\n",
        "df_final.loc[(df_final['RecenciaCluster']==2) & (df_final['FrequenciaCluster']==2) & (df_final['ReceitaCluster']==2),'Segmento'] = 'Precisam Atencao'\n",
        "\n",
        "df_final.loc[(df_final['RecenciaCluster']==2) & (df_final['FrequenciaCluster']==1) & (df_final['ReceitaCluster']==1),'Segmento'] ='Quase em Risco'\n",
        "\n",
        "df_final.loc[(df_final['RecenciaCluster']==3) & (df_final['FrequenciaCluster']==2) & (df_final['ReceitaCluster']==2),'Segmento'] ='Risco'\n",
        "\n",
        "df_final.loc[(df_final['RecenciaCluster']==3) & (df_final['FrequenciaCluster']==3) & (df_final['ReceitaCluster']==3),'Segmento'] ='Nao pode perder - Tipo 1'\n",
        "\n",
        "df_final.loc[(df_final['RecenciaCluster']==3) & (df_final['FrequenciaCluster']==1) & (df_final['ReceitaCluster']==1),'Segmento'] ='Hibernando'\n",
        "\n",
        "df_final.loc[(df_final['RecenciaCluster']==3) & (df_final['FrequenciaCluster']==0) & (df_final['ReceitaCluster']==0),'Segmento'] ='Perdidos'"
      ],
      "id": "5cf4f45d",
      "execution_count": null,
      "outputs": []
    },
    {
      "cell_type": "code",
      "metadata": {
        "id": "b67de7f4"
      },
      "source": [
        "def agrupar(p,q,r,segmento):\n",
        "    df_final.loc[(df_final['RecenciaCluster']==p) & (df_final['FrequenciaCluster']==q) & (df_final['ReceitaCluster']==r),'Segmento'] = 'segmento'"
      ],
      "id": "b67de7f4",
      "execution_count": null,
      "outputs": []
    },
    {
      "cell_type": "code",
      "metadata": {
        "id": "6d705569"
      },
      "source": [
        "agrupar(3,0,0,'Perdidos')"
      ],
      "id": "6d705569",
      "execution_count": null,
      "outputs": []
    },
    {
      "cell_type": "code",
      "metadata": {
        "id": "d8cab695"
      },
      "source": [
        ""
      ],
      "id": "d8cab695",
      "execution_count": null,
      "outputs": []
    }
  ]
}